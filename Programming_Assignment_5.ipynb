{
 "cells": [
  {
   "cell_type": "code",
   "execution_count": 7,
   "id": "57b69d2a",
   "metadata": {},
   "outputs": [
    {
     "name": "stdout",
     "output_type": "stream",
     "text": [
      "Enter first number: 4\n",
      "Enter second number: 6\n",
      "LCM of 4 and 6 is 12\n"
     ]
    }
   ],
   "source": [
    "x= int(input(\"Enter first number: \"))\n",
    "y= int(input(\"Enter second number: \"))\n",
    "if x > y:\n",
    "    z = x\n",
    "else:\n",
    "    z = y\n",
    "    \n",
    "while(True):\n",
    "    if((z % x == 0) and (z % y == 0)):\n",
    "        lcm = z\n",
    "        break\n",
    "    z += 1\n",
    "print('LCM of', x, 'and', y, 'is', lcm)\n"
   ]
  },
  {
   "cell_type": "code",
   "execution_count": 9,
   "id": "53b299fb",
   "metadata": {},
   "outputs": [
    {
     "name": "stdout",
     "output_type": "stream",
     "text": [
      "Enter first number: 3\n",
      "Enter second number: 4\n",
      "The HCF is 1\n"
     ]
    }
   ],
   "source": [
    "def compute_hcf(x, y):\n",
    "   while(y):\n",
    "       x, y = y, x % y\n",
    "   return x\n",
    "\n",
    "x= int(input(\"Enter first number: \"))\n",
    "y= int(input(\"Enter second number: \"))\n",
    "\n",
    "hcf = compute_hcf(x,y)\n",
    "print(\"The HCF is\", hcf)"
   ]
  },
  {
   "cell_type": "code",
   "execution_count": 3,
   "id": "e7131a90",
   "metadata": {},
   "outputs": [
    {
     "name": "stdout",
     "output_type": "stream",
     "text": [
      "Enter the number: 216\n"
     ]
    }
   ],
   "source": [
    "\n",
    "def binary(num):\n",
    "    dec_bin=[]\n",
    "    while num>=1:\n",
    "        a= num%2\n",
    "        dec_bin.append(a)\n",
    "        num= num//2\n",
    "    dec_bin.reverse()\n",
    "    return dec_bin\n",
    "\n",
    "def octal(num):\n",
    "    \n",
    "    dec_oct=[]\n",
    "    while num>=8:    \n",
    "        b= num%8\n",
    "        dec_oct.append(b)\n",
    "        num= num//8\n",
    "        if num<8:\n",
    "            n= num%8\n",
    "            dec_oct.append(n)\n",
    "    dec_oct.reverse()\n",
    "    return dec_oct   \n",
    "\n",
    "def hexa(num):\n",
    "    \n",
    "    dec_hex=[]\n",
    "    while num>=16:    \n",
    "        b= num%16\n",
    "        dec_hex.append(b)\n",
    "        num= num//16\n",
    "        if num<16:\n",
    "            m= num%16\n",
    "            dec_hex.append(m)\n",
    "            \n",
    "    for i in range(len(dec_hex)):\n",
    "        if dec_hex[i] == 10:\n",
    "            dec_hex[i]= 'A'\n",
    "      \n",
    "        elif dec_hex[i]==11:\n",
    "            dec_hex[i]='B'\n",
    "        elif dec_hex[i]==12:\n",
    "            dec_hex[i]='C'\n",
    "        elif dec_hex[i]==13:\n",
    "            dec_hex[i]='D'\n",
    "        elif dec_hex[i]==14:\n",
    "            dec_hex[i]='E'\n",
    "        elif dec_hex[i]==15:\n",
    "            dec_hex[i]='F'\n",
    "    dec_hex.reverse()\n",
    "    return dec_hex   \n",
    "\n",
    "num= int(input(\"Enter the number: \"))\n"
   ]
  },
  {
   "cell_type": "code",
   "execution_count": 5,
   "id": "3d94a9c0",
   "metadata": {},
   "outputs": [
    {
     "data": {
      "text/plain": [
       "[1, 1, 0, 1, 1, 0, 0, 0]"
      ]
     },
     "execution_count": 5,
     "metadata": {},
     "output_type": "execute_result"
    }
   ],
   "source": [
    "binary(num)"
   ]
  },
  {
   "cell_type": "code",
   "execution_count": 6,
   "id": "61da133f",
   "metadata": {},
   "outputs": [
    {
     "data": {
      "text/plain": [
       "[3, 3, 0]"
      ]
     },
     "execution_count": 6,
     "metadata": {},
     "output_type": "execute_result"
    }
   ],
   "source": [
    "octal(num)"
   ]
  },
  {
   "cell_type": "code",
   "execution_count": 4,
   "id": "5bceab29",
   "metadata": {},
   "outputs": [
    {
     "data": {
      "text/plain": [
       "['D', 8]"
      ]
     },
     "execution_count": 4,
     "metadata": {},
     "output_type": "execute_result"
    }
   ],
   "source": [
    "hexa(num)"
   ]
  },
  {
   "cell_type": "code",
   "execution_count": 10,
   "id": "b9187b0f",
   "metadata": {},
   "outputs": [
    {
     "name": "stdout",
     "output_type": "stream",
     "text": [
      "Enter the character: b\n",
      "The ASCII value of b is 98\n"
     ]
    }
   ],
   "source": [
    "\n",
    "char= input(\"Enter the character: \")\n",
    "\n",
    "print(\"The ASCII value of \" + char + \" is\", ord(char))\n"
   ]
  },
  {
   "cell_type": "code",
   "execution_count": 11,
   "id": "816aea2f",
   "metadata": {},
   "outputs": [
    {
     "name": "stdout",
     "output_type": "stream",
     "text": [
      "Enter first number: 10\n",
      "Enter second number: 5\n",
      "The sum of 10 and 5 is 15\n",
      "The sum of 10 and 5 is 5\n",
      "The sum of 10 and 5 is 50\n",
      "The sum of 10 and 5 is 2.0\n"
     ]
    }
   ],
   "source": [
    "a= int(input(\"Enter first number: \"))\n",
    "b= int(input(\"Enter second number: \"))\n",
    "\n",
    "print(\"The sum of {0} and {1} is {2}\".format(a,b,a+b))\n",
    "print(\"The sum of {0} and {1} is {2}\".format(a,b,a-b))\n",
    "print(\"The sum of {0} and {1} is {2}\".format(a,b,a*b))\n",
    "print(\"The sum of {0} and {1} is {2}\".format(a,b,a/b))"
   ]
  }
 ],
 "metadata": {
  "kernelspec": {
   "display_name": "Python 3",
   "language": "python",
   "name": "python3"
  },
  "language_info": {
   "codemirror_mode": {
    "name": "ipython",
    "version": 3
   },
   "file_extension": ".py",
   "mimetype": "text/x-python",
   "name": "python",
   "nbconvert_exporter": "python",
   "pygments_lexer": "ipython3",
   "version": "3.9.2"
  }
 },
 "nbformat": 4,
 "nbformat_minor": 5
}
