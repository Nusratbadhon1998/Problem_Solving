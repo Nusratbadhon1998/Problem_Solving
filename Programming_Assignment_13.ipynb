{
 "cells": [
  {
   "cell_type": "code",
   "execution_count": 74,
   "id": "b185bec9",
   "metadata": {},
   "outputs": [
    {
     "name": "stdout",
     "output_type": "stream",
     "text": [
      "Enter values: 100,150,180\n"
     ]
    },
    {
     "data": {
      "text/plain": [
       "'18,22,24'"
      ]
     },
     "execution_count": 74,
     "metadata": {},
     "output_type": "execute_result"
    }
   ],
   "source": [
    "import math\n",
    "import logging\n",
    "\n",
    "logging.basicConfig(filename= \"calculate.log\" ,level= logging.DEBUG ,format= '%(asctime)s %(levelname)s %(message)s')\n",
    "\n",
    "\n",
    "def calculate(*args):\n",
    "    \n",
    "    \n",
    "    \"\"\"Write a program that calculates and prints the value according to the given formula:\n",
    "    Q = Square root of [(2 * C * D)/H]\"\"\"\n",
    "    \n",
    "    logging.info(f\"Started the function with {args}\")\n",
    "    \n",
    "    \n",
    "    \n",
    "    C=50\n",
    "    H=30\n",
    "\n",
    "    new=[]\n",
    "\n",
    "\n",
    "    for i in range(len(args)):\n",
    "        for j in range(len(args[i])):    \n",
    "\n",
    "            result= math.sqrt((2 * C * args[i][j]) / H)\n",
    "                \n",
    "            logging.info(f\"The result is {int(result)} for the D value {args[i][j]}\")\n",
    "                \n",
    "            new.append(str(int(result)))\n",
    "            \n",
    "            \n",
    "            \n",
    "    new_str= \",\".join(new)\n",
    "\n",
    "    return new_str\n",
    "\n",
    "            \n",
    "    \n",
    "\n",
    "value= [int(x) for x in input(\"Enter values: \").split(',')]\n",
    "calculate(value)\n"
   ]
  },
  {
   "cell_type": "code",
   "execution_count": 58,
   "id": "9e32543c",
   "metadata": {},
   "outputs": [
    {
     "name": "stdout",
     "output_type": "stream",
     "text": [
      "Enter the row value: 3\n",
      "Enter the column value: 5\n"
     ]
    },
    {
     "data": {
      "text/plain": [
       "[[0, 0, 0, 0, 0], [0, 1, 2, 3, 4], [0, 2, 4, 6, 8]]"
      ]
     },
     "execution_count": 58,
     "metadata": {},
     "output_type": "execute_result"
    }
   ],
   "source": [
    "import logging\n",
    "\n",
    "logging.basicConfig(filename= \"array.log\" ,level= logging.DEBUG ,format= '%(asctime)s %(levelname)s %(message)s')\n",
    "\n",
    "class Array:\n",
    "    \"\"\"Write a program which takes 2 digits, X,Y as input and generates a 2-dimensional array. The\n",
    "    element value in the i-th row and j-th column of the array should be i*j.\"\"\"\n",
    "    \n",
    "    def __init__(self,row,column):\n",
    "        self.row= row\n",
    "        self.column= column\n",
    "        \n",
    "        logging.info(\"Array class created with row num: %s and column num: %s\",self.row,self.column)\n",
    "\n",
    "        \n",
    "    def display(self):\n",
    "        try:\n",
    "            arr=[]\n",
    "            for i in range(self.row):\n",
    "                value=[]\n",
    "                for j in range(self.column):\n",
    "                    value.append(i*j)\n",
    "                arr.append(value)\n",
    "            logging.info(\"The array is %s\", arr)\n",
    "            \n",
    "            return arr\n",
    "        except Exception as e:\n",
    "            logging.exception(\"Exception occured\"+ str(e))\n",
    "\n",
    "row= int(input(\"Enter the row value: \"))\n",
    "column= int(input(\"Enter the column value: \"))\n",
    "a= Array(row,column)\n",
    "\n",
    "a.display()\n",
    "        "
   ]
  },
  {
   "cell_type": "code",
   "execution_count": 76,
   "id": "1b30ab5e",
   "metadata": {},
   "outputs": [
    {
     "name": "stdout",
     "output_type": "stream",
     "text": [
      "Enter values: without,hello,bag,world\n"
     ]
    },
    {
     "data": {
      "text/plain": [
       "'bag,hello,without,world'"
      ]
     },
     "execution_count": 76,
     "metadata": {},
     "output_type": "execute_result"
    }
   ],
   "source": [
    "import logging\n",
    "\n",
    "logging.basicConfig(filename= \"word.log\" ,level= logging.DEBUG ,format= '%(asctime)s %(levelname)s %(message)s')\n",
    "\n",
    "\n",
    "\n",
    "def word(*args):\n",
    "    \n",
    "    logging.info(\"Started with input %s\", args)\n",
    " \n",
    "    \n",
    "    \"\"\"Write a program that accepts a comma separated sequence of words as input and prints the\n",
    "words in a comma-separated sequence after sorting them alphabetically.\"\"\"\n",
    "    \n",
    "    for i in range(len(args)):\n",
    "        for j in range(len(args[i])-1):\n",
    "            for k in range(len(args[i])-1-j):\n",
    "                if ord(args[i][k][0])> ord(args[i][k+1][0]):\n",
    "                    temp= args[i][k]\n",
    "                    args[i][k]=args[i][k+1]\n",
    "                    args[i][k+1]=temp\n",
    "\n",
    "    logging.info(\"The result after sorting %s\",args)\n",
    "    \n",
    "    new_= ','.join(args[0])\n",
    "    \n",
    "    return new_\n",
    "                \n",
    "                \n",
    "words=[(x) for x in input(\"Enter values: \").split(',')]\n",
    "\n",
    "word(words)"
   ]
  },
  {
   "cell_type": "code",
   "execution_count": 77,
   "id": "2547ce2f",
   "metadata": {},
   "outputs": [
    {
     "name": "stdout",
     "output_type": "stream",
     "text": [
      "Enter values: hello world and practice makes perfect and hello world again\n"
     ]
    }
   ],
   "source": [
    "import logging\n",
    "\n",
    "logging.basicConfig(filename= \"duplicate.log\" ,level= logging.DEBUG ,format= '%(asctime)s %(levelname)s %(message)s')\n",
    "\n",
    "class String:\n",
    "    \n",
    "    \"\"\"Write a program that accepts a sequence of whitespace separated words as input and prints\n",
    "         the words after removing all duplicate words and sorting them alphanumerically.\"\"\"\n",
    "    \n",
    "    def __init__(self,x):\n",
    "        self.str= x\n",
    "        \n",
    "    def duplicate(self):\n",
    "      \n",
    "\n",
    "        self.new=[]\n",
    "\n",
    "        for i in self.str:\n",
    "            if i not in self.new:\n",
    "                self.new.append(i)\n",
    "\n",
    "        for i in range(len(self.new)-1):\n",
    "            for j in range(len(self.new)-1-i):\n",
    "                if ord(self.new[j][0])> ord(self.new[j+1][0]):\n",
    "                    temp= self.new[j]\n",
    "                    self.new[j]= self.new[j+1]\n",
    "                    self.new[j+1]=temp\n",
    "                    \n",
    "    def str1(self):\n",
    "        \n",
    "\n",
    "        new_str=','.join(self.new)\n",
    "\n",
    "        print(new_str)\n",
    "\n",
    "string= [(x) for x in input(\"Enter values: \").split(' ')]\n",
    "\n",
    "z= String(string)"
   ]
  },
  {
   "cell_type": "code",
   "execution_count": 78,
   "id": "a534c47e",
   "metadata": {},
   "outputs": [],
   "source": [
    "z.duplicate()"
   ]
  },
  {
   "cell_type": "code",
   "execution_count": 79,
   "id": "8e11584f",
   "metadata": {},
   "outputs": [
    {
     "name": "stdout",
     "output_type": "stream",
     "text": [
      "and,again,hello,makes,practice,perfect,world\n"
     ]
    }
   ],
   "source": [
    "z.str1()"
   ]
  },
  {
   "cell_type": "code",
   "execution_count": 64,
   "id": "476f840c",
   "metadata": {},
   "outputs": [
    {
     "name": "stdout",
     "output_type": "stream",
     "text": [
      "hello world! 123\n"
     ]
    },
    {
     "data": {
      "text/plain": [
       "'Total letter is 10 and total digit is 3'"
      ]
     },
     "execution_count": 64,
     "metadata": {},
     "output_type": "execute_result"
    }
   ],
   "source": [
    "import logging\n",
    "\n",
    "logging.basicConfig(filename= \"digit_letter.log\" ,level= logging.DEBUG ,format= '%(asctime)s %(levelname)s %(message)s')\n",
    "\n",
    "\n",
    "\n",
    "def letter_digit(x):\n",
    "    \n",
    "    logging.info(\"Started the function with %s\",x)\n",
    "    \n",
    "    \"\"\"Write a program that accepts a sentence and calculate the number of letters and digits.\"\"\"\n",
    "    \n",
    "    letter='abcdefghijklmnopqrstuvwxyz'\n",
    "    digit='1234567890'\n",
    "    l=0\n",
    "    d=0\n",
    "    \n",
    "    new=' '\n",
    "    \n",
    "    for i in x:\n",
    "        if i not in new:\n",
    "            new+=i\n",
    "            \n",
    "    logging.info(\"Converted the list into string for operation\")\n",
    "    \n",
    "    for i in new:\n",
    "        if i in letter:\n",
    "            l+=1\n",
    "        elif i in digit:\n",
    "            d+=1\n",
    "        else:\n",
    "            pass\n",
    "        \n",
    "    logging.info(f\"Total letter is {l} and total digit is {d}\")\n",
    "        \n",
    "    return f\"Total letter is {l} and total digit is {d}\"\n",
    "\n",
    "s= input().split()\n",
    "\n",
    "letter_digit(s)"
   ]
  },
  {
   "cell_type": "code",
   "execution_count": 69,
   "id": "d400f79a",
   "metadata": {},
   "outputs": [
    {
     "name": "stdout",
     "output_type": "stream",
     "text": [
      "ABd1234@1,a F1#,2w3E*,2We3345, Ad123@\n"
     ]
    },
    {
     "data": {
      "text/plain": [
       "('Valid pasword is %s', 'ABd1234@1, Ad123@')"
      ]
     },
     "execution_count": 69,
     "metadata": {},
     "output_type": "execute_result"
    }
   ],
   "source": [
    "\n",
    "logging.basicConfig(filename= \"varify.log\" ,level= logging.DEBUG ,format= '%(asctime)s %(levelname)s %(message)s')\n",
    "\n",
    "def varify(password):\n",
    "    \n",
    "    try:\n",
    "        cap_letter='ABCDEFGHIJKLMNOPQRSTUVWXYZ'\n",
    "\n",
    "        sml_letter='abcdefghijklmnopqrstuvwxyz'\n",
    "\n",
    "        char='$#@'\n",
    "\n",
    "        digit='0123456789'\n",
    "        \n",
    "        new=[]\n",
    "\n",
    "\n",
    "        for i in password:\n",
    "            \n",
    "            cap_letter_f=False\n",
    "            sml_letter_f=False\n",
    "            char_f=False\n",
    "            digit_f=False\n",
    "\n",
    "            for j in i:\n",
    "\n",
    "                if j in cap_letter:\n",
    "                    cap_letter_f=True\n",
    "                elif j in sml_letter:\n",
    "                    sml_letter_f=True\n",
    "                elif j in char:\n",
    "                    char_f=True\n",
    "                elif j in digit:\n",
    "                    digit_f= True\n",
    "\n",
    "\n",
    "            if ((cap_letter_f) & (sml_letter_f) & (char_f) & (digit_f)) and (len(i)>=6 or len(i)>=12):\n",
    "\n",
    "                logging.info(\"Valid pasword is %s\",i)\n",
    "                new.append(i)\n",
    "                \n",
    "        new_str=  \",\".join(new)\n",
    "\n",
    "                \n",
    "        return \"Valid pasword is\",new_str\n",
    "            \n",
    "    except Exception as e:\n",
    "        logging.error(\"Error occured\")\n",
    "        logging.exception(\"Exception happened\"+ str(e))\n",
    "\n",
    "password=[x for x in input().split(',')]\n",
    "varify(password)"
   ]
  }
 ],
 "metadata": {
  "kernelspec": {
   "display_name": "Python 3",
   "language": "python",
   "name": "python3"
  },
  "language_info": {
   "codemirror_mode": {
    "name": "ipython",
    "version": 3
   },
   "file_extension": ".py",
   "mimetype": "text/x-python",
   "name": "python",
   "nbconvert_exporter": "python",
   "pygments_lexer": "ipython3",
   "version": "3.9.2"
  }
 },
 "nbformat": 4,
 "nbformat_minor": 5
}
