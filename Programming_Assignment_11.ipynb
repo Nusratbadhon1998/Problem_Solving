{
 "cells": [
  {
   "cell_type": "code",
   "execution_count": null,
   "id": "113ffa27",
   "metadata": {},
   "outputs": [],
   "source": [
    "def test(s,k):\n",
    "    \n",
    "    \"\"\"1. Write a Python program to find words which are greater than given length k?\"\"\"\n",
    "    \n",
    "    new=''\n",
    "\n",
    "    for i in s.split( ):\n",
    "        if len(i)>=k:\n",
    "            new+= i\n",
    "            new+=' '\n",
    "\n",
    "    return new\n",
    "        \n",
    "        \n",
    "string= input(\"Enter the string: \")\n",
    "k = int(input(\"Enter the length: \"))\n",
    "\n",
    "test(string,k)\n",
    "\n",
    "\n"
   ]
  },
  {
   "cell_type": "code",
   "execution_count": null,
   "id": "f7da4c9b",
   "metadata": {},
   "outputs": [],
   "source": [
    "def test1(s,k):\n",
    "    \n",
    "    \"\"\"2. Write a Python program for removing i-th character from a string\"\"\"\n",
    "    try:\n",
    "        for i in range(len(s)):\n",
    "\n",
    "            if i==k:\n",
    "                new= s[0:i]+s[i+1: ]\n",
    "\n",
    "        return f\"After removing {k}th character from the string: {new} \"\n",
    "    \n",
    "    except Exception as e:\n",
    "        return e\n",
    "            \n",
    "string= input(\"Enter the string: \")\n",
    "k = int(input(\"Enter the position: \"))\n",
    "\n",
    "test1(string,k)\n"
   ]
  },
  {
   "cell_type": "code",
   "execution_count": null,
   "id": "6e71eb46",
   "metadata": {},
   "outputs": [],
   "source": [
    "def test2(s):\n",
    "    \n",
    "    \"\"\"3. Write a Python program to split and join a string?\"\"\"\n",
    "    \n",
    "    new_str=''\n",
    "\n",
    "\n",
    "    for i in s.split():\n",
    "        \n",
    "        \n",
    "        new_str+= i\n",
    "        new_str+= '-'\n",
    "        \n",
    "\n",
    "    new_str= new_str[0:len(new_str)-1]\n",
    "        \n",
    "    return new_str\n",
    "    \n",
    "    \n",
    "\n",
    "string= input(\"Enter the string: \")\n",
    "test2(string)"
   ]
  },
  {
   "cell_type": "code",
   "execution_count": null,
   "id": "c66e8124",
   "metadata": {},
   "outputs": [],
   "source": [
    "def test3(s):\n",
    "    \n",
    "    \"\"\"4. Write a Python to check if a given string is binary string or not?\"\"\"\n",
    "    flag= True\n",
    "    binary=['0','1']\n",
    "    while flag:\n",
    "        for i in s:\n",
    "            if i not in binary:\n",
    "                flag= False\n",
    "                break\n",
    "        break\n",
    "    if flag:\n",
    "        return f\"Given string {s} is a binary string\"\n",
    "    else:\n",
    "        return f\"Given string {s} is not a binary string\"\n",
    "    \n",
    "str_ = input(\"Enter the string: \")\n",
    "\n",
    "test3(str_)"
   ]
  },
  {
   "cell_type": "code",
   "execution_count": null,
   "id": "868c69ee",
   "metadata": {},
   "outputs": [],
   "source": [
    "def test4(x,y):\n",
    "    \n",
    "    \"\"\"5. Write a Python program to find uncommon words from two Strings?\"\"\"\n",
    "    \n",
    "    z= x + str(\" \")+ y\n",
    "\n",
    "    new=''\n",
    "\n",
    "\n",
    "    for i in z.split():\n",
    "        if i not in x:\n",
    "            new+=i\n",
    "            new+=' '\n",
    "    for i in z.split():\n",
    "        if i not in y:\n",
    "            new+=i\n",
    "            new+=' '\n",
    "            \n",
    "    return f\"Uncommon words from two strings are: {new} \"\n",
    "\n",
    "\n",
    "a= input(\"Enter First String: \")\n",
    "b= input(\"Enter Second String: \")\n",
    "print()\n",
    "print(f\"First String is: {a}\")\n",
    "print()\n",
    "print(f\"Second String is: {b}\")\n",
    "test4(a,b)\n",
    "    \n"
   ]
  },
  {
   "cell_type": "code",
   "execution_count": null,
   "id": "14a540dc",
   "metadata": {},
   "outputs": [],
   "source": [
    "def test5(g):\n",
    "    \n",
    "    \"\"\"6. Write a Python to find all duplicate characters in string?\"\"\"\n",
    "    \n",
    "    new=''\n",
    "\n",
    "    for i in range(len(g)):\n",
    "\n",
    "        n= g[0:i]+g[i+1:]\n",
    "\n",
    "        for j in range(len(n)):\n",
    "            flag= False\n",
    "\n",
    "            if g[i] == n[j]:\n",
    "                flag= True\n",
    "            if flag:\n",
    "                if g[i] not in new:\n",
    "                    new+=(g[i])\n",
    "    \n",
    "    return f\"Duplicate characters in strings are: {new}\"\n",
    "\n",
    "\n",
    "strr= input(\"Enter the string: \")\n",
    "test5(strr)\n"
   ]
  },
  {
   "cell_type": "code",
   "execution_count": 5,
   "id": "de595f19",
   "metadata": {},
   "outputs": [
    {
     "name": "stdout",
     "output_type": "stream",
     "text": [
      "Enter the string: B@dhon\n"
     ]
    },
    {
     "data": {
      "text/plain": [
       "'String is not accepted'"
      ]
     },
     "execution_count": 5,
     "metadata": {},
     "output_type": "execute_result"
    }
   ],
   "source": [
    "def test6(s):\n",
    "    \n",
    "    \"\"\"7. Write a Python Program to check if a string contains any special character?\"\"\"\n",
    "    \n",
    "    n=\"!@#$%^&*()_+{}[]'><?/|\\,.-='\"\n",
    "    \n",
    "    while True:\n",
    "        \n",
    "        flag=True\n",
    "        \n",
    "        for i in s:\n",
    "            if i in n:\n",
    "\n",
    "                flag=False\n",
    "\n",
    "        break\n",
    "            \n",
    "    if flag:\n",
    "            \n",
    "        return \"String is  accepted\"\n",
    "    else:\n",
    "        return \"String is not accepted\"\n",
    "\n",
    "\n",
    "s= input(\"Enter the string: \")\n",
    "\n",
    "test6(s)\n",
    "\n",
    "\n",
    "            "
   ]
  }
 ],
 "metadata": {
  "kernelspec": {
   "display_name": "Python 3",
   "language": "python",
   "name": "python3"
  },
  "language_info": {
   "codemirror_mode": {
    "name": "ipython",
    "version": 3
   },
   "file_extension": ".py",
   "mimetype": "text/x-python",
   "name": "python",
   "nbconvert_exporter": "python",
   "pygments_lexer": "ipython3",
   "version": "3.9.2"
  }
 },
 "nbformat": 4,
 "nbformat_minor": 5
}
