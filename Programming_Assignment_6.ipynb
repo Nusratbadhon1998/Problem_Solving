{
 "cells": [
  {
   "cell_type": "code",
   "execution_count": 9,
   "id": "8f46dcda",
   "metadata": {},
   "outputs": [
    {
     "name": "stdout",
     "output_type": "stream",
     "text": [
      "Enter the range: 8\n"
     ]
    },
    {
     "data": {
      "text/plain": [
       "[0, 1, 1, 2, 3, 5, 8, 13]"
      ]
     },
     "execution_count": 9,
     "metadata": {},
     "output_type": "execute_result"
    }
   ],
   "source": [
    "def fibo(num):\n",
    "    a= 0\n",
    "    b=1\n",
    "    l=[]\n",
    "    for i in range(num):\n",
    "        l.append(a)\n",
    "        c= a+b\n",
    "        a=b\n",
    "        b=c\n",
    "    return l\n",
    "\n",
    "num= int (input(\"Enter the range: \"))    \n",
    "fibo(num)"
   ]
  },
  {
   "cell_type": "code",
   "execution_count": 12,
   "id": "62f54676",
   "metadata": {},
   "outputs": [
    {
     "name": "stdout",
     "output_type": "stream",
     "text": [
      "Enter the number: 5\n"
     ]
    },
    {
     "data": {
      "text/plain": [
       "'The factorial number of 5 is 120'"
      ]
     },
     "execution_count": 12,
     "metadata": {},
     "output_type": "execute_result"
    }
   ],
   "source": [
    "#5= 5x4x3x2x1\n",
    "\n",
    "def fact(num):\n",
    "    factorial=1\n",
    "    for i in range(num,1,-1):\n",
    "        factorial=factorial*i\n",
    "    return f\"The factorial number of {num} is {factorial}\"\n",
    "\n",
    "number= int(input(\"Enter the number: \"))\n",
    "\n",
    "fact(number)\n",
    "        "
   ]
  },
  {
   "cell_type": "code",
   "execution_count": 22,
   "id": "19943787",
   "metadata": {},
   "outputs": [
    {
     "name": "stdout",
     "output_type": "stream",
     "text": [
      "Enter your height: 153\n",
      "Enter your weight: 60\n"
     ]
    },
    {
     "data": {
      "text/plain": [
       "'The bmi is 0.26'"
      ]
     },
     "execution_count": 22,
     "metadata": {},
     "output_type": "execute_result"
    }
   ],
   "source": [
    "def test(h,w):\n",
    "    height= 0.1* h\n",
    "    new_height= height **2\n",
    "    bmi= w/new_height\n",
    "    return \"The bmi is {0:.2f}\".format(bmi)\n",
    "height= int(input(\"Enter your height: \"))\n",
    "weight = int(input(\"Enter your weight: \"))\n",
    "test(height,weight)"
   ]
  },
  {
   "cell_type": "code",
   "execution_count": 24,
   "id": "8a582629",
   "metadata": {},
   "outputs": [
    {
     "name": "stdout",
     "output_type": "stream",
     "text": [
      "Enter number1\n"
     ]
    },
    {
     "data": {
      "text/plain": [
       "0.0"
      ]
     },
     "execution_count": 24,
     "metadata": {},
     "output_type": "execute_result"
    }
   ],
   "source": [
    "import math\n",
    "\n",
    "def log(n):\n",
    "    return math.log(n)\n",
    "number= int(input(\"Enter number\"))\n",
    "log(number)"
   ]
  },
  {
   "cell_type": "code",
   "execution_count": 25,
   "id": "d1a82903",
   "metadata": {},
   "outputs": [
    {
     "name": "stdout",
     "output_type": "stream",
     "text": [
      "Enter the range:5\n",
      "225\n"
     ]
    }
   ],
   "source": [
    "def cube(n):\n",
    "    sum = 0\n",
    "    for i in range(1, n+1):\n",
    "        sum +=i*i*i\n",
    "\n",
    "    return sum\n",
    "\n",
    "n = int(input(\"Enter the range:\"))\n",
    "print(cube(n))\n",
    "\n"
   ]
  }
 ],
 "metadata": {
  "kernelspec": {
   "display_name": "Python 3",
   "language": "python",
   "name": "python3"
  },
  "language_info": {
   "codemirror_mode": {
    "name": "ipython",
    "version": 3
   },
   "file_extension": ".py",
   "mimetype": "text/x-python",
   "name": "python",
   "nbconvert_exporter": "python",
   "pygments_lexer": "ipython3",
   "version": "3.9.2"
  }
 },
 "nbformat": 4,
 "nbformat_minor": 5
}
