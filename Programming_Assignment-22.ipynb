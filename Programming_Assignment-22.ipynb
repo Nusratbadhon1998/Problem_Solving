{
 "cells": [
  {
   "cell_type": "code",
   "execution_count": 57,
   "id": "45fbfb9c",
   "metadata": {},
   "outputs": [
    {
     "data": {
      "text/plain": [
       "[8]"
      ]
     },
     "execution_count": 57,
     "metadata": {},
     "output_type": "execute_result"
    }
   ],
   "source": [
    "\"\"\"Return an ordered list with numbers in the range that are divisible by the third parameter n.\n",
    "Return an empty list if there are no numbers that are divisible by n.\"\"\"\n",
    "\n",
    "\n",
    "def list_op(a,b,c):\n",
    "    new=[]\n",
    "    for i in range(a,b+1):\n",
    "        if i%c==0:\n",
    "            new.append(i)\n",
    "    return new\n",
    "\n",
    "list_op(7,9,2)\n",
    "            "
   ]
  },
  {
   "cell_type": "code",
   "execution_count": 3,
   "id": "aa5ec843",
   "metadata": {},
   "outputs": [
    {
     "data": {
      "text/plain": [
       "True"
      ]
     },
     "execution_count": 3,
     "metadata": {},
     "output_type": "execute_result"
    }
   ],
   "source": [
    "\n",
    "\"\"\"Create a function that takes in two lists and returns True if the second list follows the first list\n",
    "by one element, and False otherwise. In other words, determine if the second list is the first\n",
    "list shifted to the right by 1.\"\"\"\n",
    "\n",
    "def simon_says(a,b):\n",
    "    if len(a)==len(b):\n",
    "        if len(a)>=2:\n",
    "            if a[0]==b[1]:\n",
    "                return True\n",
    "            else:\n",
    "                return False\n",
    "            \n",
    "            \n",
    "a=[1, 2]\n",
    "b=[5, 1]\n",
    "\n",
    "simon_says(a,b)"
   ]
  },
  {
   "cell_type": "code",
   "execution_count": 4,
   "id": "d4dd76c1",
   "metadata": {},
   "outputs": [
    {
     "data": {
      "text/plain": [
       "False"
      ]
     },
     "execution_count": 4,
     "metadata": {},
     "output_type": "execute_result"
    }
   ],
   "source": [
    "simon_says([1, 2, 3, 4, 5], [5, 5, 1, 2, 3])"
   ]
  },
  {
   "cell_type": "code",
   "execution_count": 9,
   "id": "23d45432",
   "metadata": {},
   "outputs": [],
   "source": [
    "\"\"\"Create a function that takes in a list of names and returns the name of the secret society.\"\"\"\n",
    "\n",
    "def society_name(name):\n",
    "    alpha=[i[0] for i in name]\n",
    "    return sorted(alpha)\n",
    "\n",
    "names=['Pheobe','Rachel','Ross','Monica','Joey','Chandler']"
   ]
  },
  {
   "cell_type": "code",
   "execution_count": 10,
   "id": "c2adbd85",
   "metadata": {},
   "outputs": [
    {
     "data": {
      "text/plain": [
       "['C', 'J', 'M', 'P', 'R', 'R']"
      ]
     },
     "execution_count": 10,
     "metadata": {},
     "output_type": "execute_result"
    }
   ],
   "source": [
    "society_name(names)"
   ]
  },
  {
   "cell_type": "code",
   "execution_count": 42,
   "id": "ee640cfc",
   "metadata": {},
   "outputs": [
    {
     "data": {
      "text/plain": [
       "True"
      ]
     },
     "execution_count": 42,
     "metadata": {},
     "output_type": "execute_result"
    }
   ],
   "source": [
    "\n",
    "\"\"\"An isogram is a word that has no duplicate letters. Create a function that takes a string and\n",
    "returns either True or False depending on whether or not it&#39;s an &quot;isogram&quot;.\"\"\"\n",
    "\n",
    "def isogram(p):\n",
    "    \n",
    "    if p==p.title():\n",
    "        c= False\n",
    "        for i in range(len(p)):\n",
    "            for j in p[0:i]+p[i+1:]:\n",
    "                if p[i]==j:\n",
    "                    c=True\n",
    "        if c:\n",
    "            return False\n",
    "        else:\n",
    "            return True\n",
    "        \n",
    "    else:\n",
    "        return \"Not case sensitive\"\n",
    "\n",
    "x= \"Algorism\"\n",
    "isogram(x)"
   ]
  },
  {
   "cell_type": "code",
   "execution_count": 51,
   "id": "fe15c6bb",
   "metadata": {},
   "outputs": [],
   "source": [
    "\"\"\"Create a function that takes a string and returns True or False, depending on whether the\n",
    "characters are in order or not.\"\"\"\n",
    "\n",
    "\n",
    "def order(p):\n",
    "    c= False\n",
    "    for i in range(len(p)-1):\n",
    "        if ord(p[i])>ord(p[i+1]):\n",
    "            c=True\n",
    "            \n",
    "    if c:\n",
    "        return False\n",
    "    else:\n",
    "        return True\n",
    "        \n",
    "        \n",
    "        \n",
    "    "
   ]
  },
  {
   "cell_type": "code",
   "execution_count": 55,
   "id": "1daff340",
   "metadata": {},
   "outputs": [
    {
     "data": {
      "text/plain": [
       "False"
      ]
     },
     "execution_count": 55,
     "metadata": {},
     "output_type": "execute_result"
    }
   ],
   "source": [
    "order(\"edabit\")"
   ]
  }
 ],
 "metadata": {
  "kernelspec": {
   "display_name": "Python 3 (ipykernel)",
   "language": "python",
   "name": "python3"
  },
  "language_info": {
   "codemirror_mode": {
    "name": "ipython",
    "version": 3
   },
   "file_extension": ".py",
   "mimetype": "text/x-python",
   "name": "python",
   "nbconvert_exporter": "python",
   "pygments_lexer": "ipython3",
   "version": "3.9.0"
  }
 },
 "nbformat": 4,
 "nbformat_minor": 5
}
