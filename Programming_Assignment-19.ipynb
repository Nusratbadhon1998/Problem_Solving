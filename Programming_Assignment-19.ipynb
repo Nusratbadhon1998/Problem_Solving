{
 "cells": [
  {
   "cell_type": "code",
   "execution_count": 4,
   "id": "af6bfc0c",
   "metadata": {},
   "outputs": [
    {
     "name": "stdout",
     "output_type": "stream",
     "text": [
      "Enter a string: 1234_\n",
      "11223344__\n"
     ]
    }
   ],
   "source": [
    "\"\"\"Create a function that takes a string and returns a string in which each character is repeated\n",
    "once.\"\"\"\n",
    "\n",
    "import logging\n",
    "\n",
    "logging.basicConfig(filename='repeat.log',level=logging.DEBUG,format= '%(asctime)s %(levelname)s %(message)s')\n",
    "\n",
    "def repeat(x):\n",
    "    try:\n",
    "        logging.info(f\"Given string is: {x}\")\n",
    "        new=''\n",
    "\n",
    "        for i in x:\n",
    "            new+= i*2\n",
    "\n",
    "        logging.info(f\"After repeating the character new string is: {new}\")\n",
    "        yield new\n",
    "    except Exception as e:\n",
    "        logging.exception(\"Exception occured\")\n",
    "\n",
    "txt=input(\"Enter a string: \")\n",
    "for i in repeat(txt):\n",
    "    print(i)"
   ]
  },
  {
   "cell_type": "code",
   "execution_count": 8,
   "id": "04dd3a03",
   "metadata": {},
   "outputs": [
    {
     "data": {
      "text/plain": [
       "'boolean expected'"
      ]
     },
     "execution_count": 8,
     "metadata": {},
     "output_type": "execute_result"
    }
   ],
   "source": [
    "\"\"\"Create a function that reverses a boolean value and returns the string &quot;boolean expected&quot;\n",
    "if another variable type is given.\"\"\"\n",
    "\n",
    "def boolean(b):\n",
    "    logging.info(f\"Given value: {b}\")\n",
    "    if isinstance(b,bool):\n",
    "        if b==True:\n",
    "            return False\n",
    "        else:\n",
    "            return True\n",
    "    else:\n",
    "        return \"boolean expected\"\n",
    "boolean(0)"
   ]
  },
  {
   "cell_type": "code",
   "execution_count": 14,
   "id": "a85467f6",
   "metadata": {},
   "outputs": [
    {
     "data": {
      "text/plain": [
       "1048.576"
      ]
     },
     "execution_count": 14,
     "metadata": {},
     "output_type": "execute_result"
    }
   ],
   "source": [
    "\"\"\"Create a function that returns the thickness (in meters) of a piece of paper after folding it n\n",
    "number of times. The paper starts off with a thickness of 0.5mm.\"\"\"\n",
    "\n",
    "def fn(a):\n",
    "    res = 0.5\n",
    "    for _ in range(a):\n",
    "        res *= 2\n",
    "    return res / 1000 \n",
    "fn(21)"
   ]
  },
  {
   "cell_type": "code",
   "execution_count": 11,
   "id": "08a51595",
   "metadata": {},
   "outputs": [
    {
     "data": {
      "text/plain": [
       "[0, 1, 2, 3, 4, 5]"
      ]
     },
     "execution_count": 11,
     "metadata": {},
     "output_type": "execute_result"
    }
   ],
   "source": [
    "\"\"\"Create a function that takes a single string as argument and returns an ordered list containing\n",
    "the indices of all capital letters in the string.\"\"\"\n",
    "\n",
    "\n",
    "def index_of_caps(x):\n",
    "    index=[]\n",
    "    for i in range(len(x)):\n",
    "        if x[i]==x[i].upper():\n",
    "            index.append(i)\n",
    "    return index\n",
    "        \n",
    "            \n",
    "index_of_caps(\"STRIKE\")"
   ]
  },
  {
   "cell_type": "code",
   "execution_count": 13,
   "id": "49ea2b69",
   "metadata": {},
   "outputs": [
    {
     "name": "stdout",
     "output_type": "stream",
     "text": [
      "Enter range: 10\n",
      "[2, 4, 6, 8, 10]\n"
     ]
    }
   ],
   "source": [
    "\"\"\"Using list comprehensions, create a function that finds all even numbers from 1 to the given\n",
    "number.\"\"\"\n",
    "\n",
    "num=int(input(\"Enter range: \"))\n",
    "\n",
    "even=[i for i in range(1,num+1) if i%2==0]\n",
    "print(even)"
   ]
  }
 ],
 "metadata": {
  "kernelspec": {
   "display_name": "Python 3",
   "language": "python",
   "name": "python3"
  },
  "language_info": {
   "codemirror_mode": {
    "name": "ipython",
    "version": 3
   },
   "file_extension": ".py",
   "mimetype": "text/x-python",
   "name": "python",
   "nbconvert_exporter": "python",
   "pygments_lexer": "ipython3",
   "version": "3.9.2"
  }
 },
 "nbformat": 4,
 "nbformat_minor": 5
}
