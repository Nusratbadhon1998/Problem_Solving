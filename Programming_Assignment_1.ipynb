{
  "nbformat": 4,
  "nbformat_minor": 0,
  "metadata": {
    "colab": {
      "name": "Programming_Assignment_1.ipynb",
      "provenance": []
    },
    "kernelspec": {
      "name": "python3",
      "display_name": "Python 3"
    },
    "language_info": {
      "name": "python"
    }
  },
  "cells": [
    {
      "cell_type": "markdown",
      "source": [
        "Write a Python program to print 'Hello Python'?"
      ],
      "metadata": {
        "id": "75BnFBwWrG0-"
      }
    },
    {
      "cell_type": "code",
      "source": [
        "print(\"Hello Python\")"
      ],
      "metadata": {
        "colab": {
          "base_uri": "https://localhost:8080/"
        },
        "id": "j08MrQy-rN5J",
        "outputId": "570141ef-ab12-4aa2-af50-f6975bac605f"
      },
      "execution_count": 1,
      "outputs": [
        {
          "output_type": "stream",
          "name": "stdout",
          "text": [
            "Hello Python\n"
          ]
        }
      ]
    },
    {
      "cell_type": "markdown",
      "source": [
        "Write a Python program to do arithmetical operations addition and division.?"
      ],
      "metadata": {
        "id": "gHIUusU0rU7S"
      }
    },
    {
      "cell_type": "code",
      "source": [
        "a= int(input(\"Enter first number: \"))\n",
        "b= int(input(\"Enter second number: \"))\n",
        "\n",
        "add= a+b\n",
        "div= a/b\n",
        "\n",
        "print(f\"The addition is {add}\")\n",
        "print(f\"The divition is {div}\")"
      ],
      "metadata": {
        "colab": {
          "base_uri": "https://localhost:8080/"
        },
        "id": "ifDGKLTqrT_k",
        "outputId": "93590760-1ca1-411a-bf92-a60141e9eb5d"
      },
      "execution_count": 3,
      "outputs": [
        {
          "output_type": "stream",
          "name": "stdout",
          "text": [
            "Enter first number: 10\n",
            "Enter second number: 5\n",
            "The addition is 15\n",
            "The divition is 2.0\n"
          ]
        }
      ]
    },
    {
      "cell_type": "markdown",
      "source": [
        "Write a Python program to find the area of a triangle?"
      ],
      "metadata": {
        "id": "ISCFdzQ4rw8C"
      }
    },
    {
      "cell_type": "code",
      "source": [
        "height= int(input(\"Enter the height: \"))\n",
        "base= int(input(\"Enter the base: \"))\n",
        "\n",
        "a= (height* base)/2\n",
        "print(f\"The area of triangle is {a}\")"
      ],
      "metadata": {
        "colab": {
          "base_uri": "https://localhost:8080/"
        },
        "id": "jXw_61EirlIP",
        "outputId": "b69922ff-d906-47c4-9703-5a2842f9ee5b"
      },
      "execution_count": 4,
      "outputs": [
        {
          "output_type": "stream",
          "name": "stdout",
          "text": [
            "Enter the height: 7\n",
            "Enter the base: 5\n",
            "The area of triangle is 17.5\n"
          ]
        }
      ]
    },
    {
      "cell_type": "markdown",
      "source": [
        "Write a Python program to swap two variables?"
      ],
      "metadata": {
        "id": "hBApIR8_sSwB"
      }
    },
    {
      "cell_type": "code",
      "source": [
        "a= 12\n",
        "b= 6\n",
        "\n",
        "temp= \"\"\n",
        "\n",
        "temp= a\n",
        "a= b\n",
        "b= temp\n",
        "\n",
        "print(a)\n",
        "print(b)\n"
      ],
      "metadata": {
        "colab": {
          "base_uri": "https://localhost:8080/"
        },
        "id": "UQN6H54tsTYZ",
        "outputId": "68353f9b-d476-410d-8794-470689f3a22e"
      },
      "execution_count": 5,
      "outputs": [
        {
          "output_type": "stream",
          "name": "stdout",
          "text": [
            "6\n",
            "12\n"
          ]
        }
      ]
    },
    {
      "cell_type": "markdown",
      "source": [
        "Write a Python program to generate a random number?"
      ],
      "metadata": {
        "id": "QPc_OkNssxXy"
      }
    },
    {
      "cell_type": "code",
      "source": [
        "import random\n",
        "a= random.randint(1,10)\n",
        "print(a)"
      ],
      "metadata": {
        "colab": {
          "base_uri": "https://localhost:8080/"
        },
        "id": "arFEWuxGswe5",
        "outputId": "7091640f-e1d5-44e7-9660-d321837106dd"
      },
      "execution_count": 9,
      "outputs": [
        {
          "output_type": "stream",
          "name": "stdout",
          "text": [
            "6\n"
          ]
        }
      ]
    }
  ]
}