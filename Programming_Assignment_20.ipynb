{
 "cells": [
  {
   "cell_type": "code",
   "execution_count": 26,
   "id": "78abe44a",
   "metadata": {},
   "outputs": [],
   "source": [
    "\"\"\"Create a function that takes a list of strings and integers, and filters out the list so that it\n",
    "returns a list of integers only.\"\"\"\n",
    "\n",
    "import logging\n",
    "logging.basicConfig(filename=\"Int.log\",level=logging.DEBUG,format='%(asctime)s %(levelname)s %(message)s')\n",
    "\n",
    "class Integer:\n",
    "    try:\n",
    "    \n",
    "        def __init__(self,x):\n",
    "            self.x= x\n",
    "\n",
    "            logging.info(f\"Given list is: {self.x}\")\n",
    "\n",
    "\n",
    "        def func(self):\n",
    "            z= list(filter(lambda i:isinstance(i,int),self.x ))\n",
    "\n",
    "            return z\n",
    "            logging.info(f\"After filtering the list is: {z}\")\n",
    "    except Exception as e:\n",
    "        logging.exception(\"Exception occured\"+str(e))\n",
    "\n"
   ]
  },
  {
   "cell_type": "code",
   "execution_count": 27,
   "id": "000ffdb4",
   "metadata": {},
   "outputs": [],
   "source": [
    "c= Integer([1, 2, 3, \"a\", \"b\", 4])"
   ]
  },
  {
   "cell_type": "code",
   "execution_count": 28,
   "id": "aec04d0c",
   "metadata": {},
   "outputs": [
    {
     "data": {
      "text/plain": [
       "[1, 2, 3, 4]"
      ]
     },
     "execution_count": 28,
     "metadata": {},
     "output_type": "execute_result"
    }
   ],
   "source": [
    "c.func()"
   ]
  },
  {
   "cell_type": "code",
   "execution_count": 3,
   "id": "3e9efedf",
   "metadata": {},
   "outputs": [],
   "source": [
    "\n",
    "\"\"\"Given a list of numbers, create a function which returns the list but with each element&#39;s\n",
    "index in the list added to itself. This means you add 0 to the number at index 0, add 1 to the\n",
    "number at index 1, etc...\"\"\"\n",
    "import logging\n",
    "\n",
    "logging.basicConfig(filename= \"indx.log\" ,level= logging.DEBUG ,format= '%(asctime)s %(levelname)s %(message)s')\n",
    "\n",
    "class Index:\n",
    "    try:\n",
    "        def __init__(self,l):\n",
    "            self._l=l\n",
    "            logging.info(f\"Given list is {self._l}\")\n",
    "            \n",
    "        def func(self):\n",
    "            new=[i+self._l[i] for i in range(len(self._l))]\n",
    "            return new\n",
    "    except Exception as e:\n",
    "        logging.exception(\"This exception occured: \"+str(e))\n",
    "            \n",
    "        "
   ]
  },
  {
   "cell_type": "code",
   "execution_count": 4,
   "id": "44a36716",
   "metadata": {},
   "outputs": [
    {
     "data": {
      "text/plain": [
       "[0, 1, 2, 3, 4]"
      ]
     },
     "execution_count": 4,
     "metadata": {},
     "output_type": "execute_result"
    }
   ],
   "source": [
    "i= Index([0,0,0,0,0])\n",
    "i.func()"
   ]
  },
  {
   "cell_type": "code",
   "execution_count": 16,
   "id": "041c3263",
   "metadata": {},
   "outputs": [],
   "source": [
    "import logging\n",
    "\n",
    "\n",
    "logging.basicConfig(filename='volume.log',level=logging.DEBUG,format= '%(asctime)s %(levelname)s %(message)s')\n",
    "\n",
    "class Volume:\n",
    "    def __init__(self, h,r):\n",
    "        self._h= h\n",
    "        self._r=r\n",
    "        self.pi= 3.1416\n",
    "        logging.info(f\"Given Height and Radius are: {self._h},{self._r}\")\n",
    "        \n",
    "    def vol(self):\n",
    "        v= self.pi * (self._r **2) * (self._h/3)\n",
    "        return ('%.1f' % v)\n",
    "\n",
    "        "
   ]
  },
  {
   "cell_type": "code",
   "execution_count": 17,
   "id": "8cb00972",
   "metadata": {},
   "outputs": [],
   "source": [
    "v= Volume(3,2)"
   ]
  },
  {
   "cell_type": "code",
   "execution_count": 18,
   "id": "aa3f89f3",
   "metadata": {},
   "outputs": [
    {
     "data": {
      "text/plain": [
       "'12.6'"
      ]
     },
     "execution_count": 18,
     "metadata": {},
     "output_type": "execute_result"
    }
   ],
   "source": [
    "v.vol()"
   ]
  },
  {
   "cell_type": "code",
   "execution_count": 25,
   "id": "10de1980",
   "metadata": {},
   "outputs": [
    {
     "data": {
      "text/plain": [
       "23220"
      ]
     },
     "execution_count": 25,
     "metadata": {},
     "output_type": "execute_result"
    }
   ],
   "source": [
    "\"\"\"Write a function that gives the number of dots with its corresponding triangle number of the\n",
    "sequence.\"\"\"\n",
    "\n",
    "def triangle(n):\n",
    "    sum=0\n",
    "    for i in range(1,n+1):\n",
    "        sum+=i\n",
    "    return sum\n",
    "        \n",
    "triangle(215)\n",
    "        "
   ]
  },
  {
   "cell_type": "code",
   "execution_count": 5,
   "id": "7c704763",
   "metadata": {},
   "outputs": [
    {
     "name": "stdout",
     "output_type": "stream",
     "text": [
      "8\n",
      "10\n"
     ]
    }
   ],
   "source": [
    "\"\"\"Create a function that takes a list of numbers between 1 and 10 (excluding one number) and\n",
    "returns the missing number.\"\"\"\n",
    "\n",
    "l=[1,2,3,4,5,6,7,9]\n",
    "\n",
    "k=[1,2,3,4,5,6,7,8,9,10]\n",
    "\n",
    "if len(l)!= len(k):\n",
    "    for i in k:\n",
    "        if i not in l:\n",
    "            print(i)"
   ]
  }
 ],
 "metadata": {
  "kernelspec": {
   "display_name": "Python 3 (ipykernel)",
   "language": "python",
   "name": "python3"
  },
  "language_info": {
   "codemirror_mode": {
    "name": "ipython",
    "version": 3
   },
   "file_extension": ".py",
   "mimetype": "text/x-python",
   "name": "python",
   "nbconvert_exporter": "python",
   "pygments_lexer": "ipython3",
   "version": "3.9.0"
  }
 },
 "nbformat": 4,
 "nbformat_minor": 5
}
