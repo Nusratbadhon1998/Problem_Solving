{
 "cells": [
  {
   "cell_type": "code",
   "execution_count": 9,
   "id": "62d4b086",
   "metadata": {},
   "outputs": [
    {
     "data": {
      "text/plain": [
       "False"
      ]
     },
     "execution_count": 9,
     "metadata": {},
     "output_type": "execute_result"
    }
   ],
   "source": [
    "\"\"\"Create a function that takes a number as an argument and returns True or False depending\n",
    "on whether the number is symmetrical or not. A number is symmetrical when it is the same as\n",
    "its reverse.\"\"\"\n",
    "\n",
    "def is_symmetrical(n):\n",
    "    x=str(n)\n",
    "    new=int(x[::-1])\n",
    "    if n== new:\n",
    "        return True\n",
    "    else:\n",
    "        return False\n",
    "    \n",
    "n=12456\n",
    "is_symmetrical(n)"
   ]
  },
  {
   "cell_type": "code",
   "execution_count": 18,
   "id": "0746efa4",
   "metadata": {},
   "outputs": [
    {
     "name": "stdout",
     "output_type": "stream",
     "text": [
      "['10', '-2']\n"
     ]
    },
    {
     "data": {
      "text/plain": [
       "-20"
      ]
     },
     "execution_count": 18,
     "metadata": {},
     "output_type": "execute_result"
    }
   ],
   "source": [
    "\"\"\"Given a string of numbers separated by a comma and space, return the product of the\n",
    "numbers.\"\"\"\n",
    "\n",
    "\n",
    "def multiply_nums(s):\n",
    "    x=s.split(',')\n",
    "    print(x)\n",
    "    mul=1\n",
    "    for i in x:\n",
    "        mul*=int(i)\n",
    "    return mul\n",
    "s='10,-2'\n",
    "multiply_nums(s)"
   ]
  },
  {
   "cell_type": "code",
   "execution_count": 7,
   "id": "dafe9264",
   "metadata": {},
   "outputs": [],
   "source": [
    "\"\"\"Create a function that squares every digit of a number.\"\"\"\n",
    "\n",
    "def square(x):\n",
    "    s=''\n",
    "    x= str(x)\n",
    "    for i in x:\n",
    "        s+= str(int(i)**2)\n",
    "    return int(s)\n",
    "    "
   ]
  },
  {
   "cell_type": "code",
   "execution_count": 9,
   "id": "dd971994",
   "metadata": {},
   "outputs": [
    {
     "data": {
      "text/plain": [
       "9414"
      ]
     },
     "execution_count": 9,
     "metadata": {},
     "output_type": "execute_result"
    }
   ],
   "source": [
    "square(3212)"
   ]
  },
  {
   "cell_type": "code",
   "execution_count": 11,
   "id": "34f2f2ef",
   "metadata": {},
   "outputs": [
    {
     "data": {
      "text/plain": [
       "[1, 2, 3]"
      ]
     },
     "execution_count": 11,
     "metadata": {},
     "output_type": "execute_result"
    }
   ],
   "source": [
    "\"\"\"Create a function that sorts a list and removes all duplicate items from it.\"\"\"\n",
    "\n",
    "def setify(x):\n",
    "    new=[]\n",
    "    for i in x:\n",
    "        if i not in new:\n",
    "            new.append(i)\n",
    "    return sorted(new)\n",
    "    \n",
    "    \n",
    "    \n",
    "    \n",
    "setify([3, 3, 3, 2, 1])"
   ]
  },
  {
   "cell_type": "code",
   "execution_count": 31,
   "id": "cf821286",
   "metadata": {},
   "outputs": [
    {
     "data": {
      "text/plain": [
       "3"
      ]
     },
     "execution_count": 31,
     "metadata": {},
     "output_type": "execute_result"
    }
   ],
   "source": [
    "\"\"\"Create a function that returns the mean of all digits.\"\"\"\n",
    "import math\n",
    "def media(x):\n",
    "  if x == 0:\n",
    "    return 0\n",
    "  else:\n",
    "    digits = []\n",
    "    while x > 0:\n",
    "      digits.append(x % 10)\n",
    "      x = x // 10\n",
    "    return math.ceil(sum(digits) / len(digits))\n",
    "\n",
    "media(512)\n",
    "        "
   ]
  }
 ],
 "metadata": {
  "kernelspec": {
   "display_name": "Python 3 (ipykernel)",
   "language": "python",
   "name": "python3"
  },
  "language_info": {
   "codemirror_mode": {
    "name": "ipython",
    "version": 3
   },
   "file_extension": ".py",
   "mimetype": "text/x-python",
   "name": "python",
   "nbconvert_exporter": "python",
   "pygments_lexer": "ipython3",
   "version": "3.9.0"
  }
 },
 "nbformat": 4,
 "nbformat_minor": 5
}
