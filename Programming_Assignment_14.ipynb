{
 "cells": [
  {
   "cell_type": "code",
   "execution_count": 6,
   "id": "a04ecef6",
   "metadata": {},
   "outputs": [],
   "source": [
    "\"\"\"Define a class with a generator which can iterate the numbers, which are divisible by\n",
    "7, between a given range 0 and n.\"\"\"\n",
    "\n",
    "class Divisible:\n",
    "    \n",
    "    def __init__(self,x,y):\n",
    "        self.x=x\n",
    "        self.y= y\n",
    "    \n",
    "    def num(self):\n",
    "        for i in range(self.x,self.y):\n",
    "            if i % 7 == 0:\n",
    "                yield i \n"
   ]
  },
  {
   "cell_type": "code",
   "execution_count": 13,
   "id": "7f30d3fd",
   "metadata": {},
   "outputs": [
    {
     "name": "stdout",
     "output_type": "stream",
     "text": [
      "Enter a range: 100\n",
      "0\n",
      "7\n",
      "14\n",
      "21\n",
      "28\n",
      "35\n",
      "42\n",
      "49\n",
      "56\n",
      "63\n",
      "70\n",
      "77\n",
      "84\n",
      "91\n",
      "98\n"
     ]
    }
   ],
   "source": [
    "n= int(input(\"Enter a range: \"))\n",
    "x= Divisible(0,n)\n",
    "\n",
    "for i in x.num():\n",
    "    print(i)"
   ]
  },
  {
   "cell_type": "code",
   "execution_count": 25,
   "id": "2463598b",
   "metadata": {},
   "outputs": [
    {
     "name": "stdout",
     "output_type": "stream",
     "text": [
      "2:2\n",
      "3.:1\n",
      "3?:1\n",
      "New:1\n",
      "Python:5\n",
      "Read:1\n",
      "and:1\n",
      "between:1\n",
      "choosing:1\n",
      "or:2\n",
      "to:1\n"
     ]
    }
   ],
   "source": [
    "\"\"\"Write a program to compute the frequency of the words from the input. The output\n",
    "should output after sorting the key alphanumerically.\"\"\"\n",
    "\n",
    "def frequency(input):\n",
    "    freq = dict()\n",
    "\n",
    "    for word in input.split():\n",
    "        freq[word] = freq.get(word, 0) + 1\n",
    "\n",
    "    words = list(freq.keys())\n",
    "    words.sort()\n",
    "\n",
    "    for w in words:\n",
    "        print(f'{w}:{freq[w]}')\n",
    "        \n",
    "frequency('New to Python or choosing between Python 2 and Python 3? Read Python 2 or Python 3.')"
   ]
  },
  {
   "cell_type": "code",
   "execution_count": null,
   "id": "267e3ed0",
   "metadata": {},
   "outputs": [],
   "source": [
    "\"\"\"Define a class Person and its two child classes: Male and Female. All classes have a\n",
    "method &quot;getGender&quot; which can print &quot;Male&quot; for Male class and &quot;Female&quot; for Female\n",
    "class.\"\"\"\n",
    "\n",
    "\n",
    "class person:\n",
    "    def getGender(self):\n",
    "        print(\"THis is from person class\")\n",
    "\n",
    "class male(person):\n",
    "    def getGender(self):\n",
    "        print(\"I am from male class\")\n",
    "        \n",
    "class female(male):\n",
    "    def getGender(self):\n",
    "        print(\"I am from female class\")\n"
   ]
  },
  {
   "cell_type": "code",
   "execution_count": null,
   "id": "cf7a32bf",
   "metadata": {},
   "outputs": [],
   "source": [
    "x= male()\n",
    "x.getGender()"
   ]
  },
  {
   "cell_type": "code",
   "execution_count": null,
   "id": "b36d703e",
   "metadata": {},
   "outputs": [],
   "source": [
    "y= female()\n",
    "y.getGender()"
   ]
  },
  {
   "cell_type": "code",
   "execution_count": null,
   "id": "ca4f5c7f",
   "metadata": {},
   "outputs": [],
   "source": [
    "subject=['I','You']\n",
    "verb= ['Play','Love']\n",
    "object=['Baseball','Cricket']\n",
    "\n",
    "for i in subject:\n",
    "    for j in verb:\n",
    "        for k in object:\n",
    "            print(i+' '+j+' '+k)"
   ]
  },
  {
   "cell_type": "code",
   "execution_count": 17,
   "id": "6b207b8b",
   "metadata": {},
   "outputs": [
    {
     "name": "stdout",
     "output_type": "stream",
     "text": [
      "b'x\\x9c\\xcbH\\xcd\\xc9\\xc9W(\\xcf/\\xcaIQ\\xcc \\x82\\r\\x00\\xbd[\\x11\\xf5'\n",
      "b'hello world!hello world!hello world!hello world!'\n"
     ]
    }
   ],
   "source": [
    "import zlib\n",
    "s = 'hello world!hello world!hello world!hello world!'\n",
    "\n",
    "y = bytes(s, 'utf-8')\n",
    "\n",
    "x = zlib.compress(y)\n",
    "\n",
    "print(x)\n",
    "print(zlib.decompress(x))"
   ]
  },
  {
   "cell_type": "code",
   "execution_count": 14,
   "id": "94256189",
   "metadata": {},
   "outputs": [],
   "source": [
    "\"\"\"Please write a binary search function which searches an item in a sorted list. The\n",
    "function should return the index of element to be searched in the list.\"\"\"\n",
    "\n",
    "import logging\n",
    "\n",
    "logging.basicConfig(filename= \"binary_search.log\" ,level= logging.DEBUG ,format= '%(asctime)s %(levelname)s %(message)s')\n",
    "\n",
    "\n",
    "def binary(x,n):\n",
    "    \n",
    "    logging.info(\"List is %s\",x)\n",
    "    logging.info(\"Element which has to be searched is %s\",n)\n",
    "    \n",
    "    try:\n",
    "        l=0\n",
    "        logging.info(f\"l value is: {l}\")\n",
    "        r= len(x)-1  \n",
    "        logging.info(f\"r value is: {r}\")\n",
    "        m= int((l+r)/2)\n",
    "        logging.info(f\"m value is: {m}\")\n",
    "\n",
    "        while l < r:\n",
    "\n",
    "            if x[m]== n:\n",
    "                logging.info(f\"The element {n} is present at {m} position\")\n",
    "                \n",
    "                return f\"The element {n} is present at {m} position\"\n",
    "                \n",
    "                break\n",
    "\n",
    "            elif x[m] < n:\n",
    "\n",
    "                l= m+1\n",
    "                logging.info(f\"The l value is {l} and the right value is {r}\")\n",
    "\n",
    "\n",
    "                if l>r:\n",
    "                    logging.info(f\"The element {n} is not present\")\n",
    "                    return \"Element is not present\"\n",
    "                    \n",
    "                    \n",
    "                    break\n",
    "                else: \n",
    "                    m= int((l+r)/2)\n",
    "                    logging.info(f\"The m value is {m} after changing l value\")\n",
    "\n",
    "\n",
    "\n",
    "\n",
    "\n",
    "            elif x[m]> n:\n",
    "\n",
    "                r= m-1\n",
    "                logging.info(f\"The l value is {l} and the right value is {r}\")\n",
    "\n",
    "                if l>r: \n",
    "                    logging.info(f\"The element {n} is not present\")\n",
    "                    return \"Element is not present\"\n",
    "\n",
    "                    \n",
    "\n",
    "                    break\n",
    "\n",
    "                else:\n",
    "\n",
    "                    m= int((l+r)/2)\n",
    "                    logging.info(f\"The m value is {m} after changing r value\")\n",
    "\n",
    "                    \n",
    "    except Exceptiional as e:\n",
    "        \n",
    "        logging.exception(\"Error occured\")\n",
    "\n",
    "        \n",
    "        "
   ]
  },
  {
   "cell_type": "code",
   "execution_count": 15,
   "id": "da8b278a",
   "metadata": {},
   "outputs": [
    {
     "data": {
      "text/plain": [
       "'The element 6 is present at 5 position'"
      ]
     },
     "execution_count": 15,
     "metadata": {},
     "output_type": "execute_result"
    }
   ],
   "source": [
    "x=[1,2,3,4,5,6,9]\n",
    "binary(x,6)"
   ]
  }
 ],
 "metadata": {
  "kernelspec": {
   "display_name": "Python 3",
   "language": "python",
   "name": "python3"
  },
  "language_info": {
   "codemirror_mode": {
    "name": "ipython",
    "version": 3
   },
   "file_extension": ".py",
   "mimetype": "text/x-python",
   "name": "python",
   "nbconvert_exporter": "python",
   "pygments_lexer": "ipython3",
   "version": "3.9.2"
  }
 },
 "nbformat": 4,
 "nbformat_minor": 5
}
