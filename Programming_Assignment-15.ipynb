{
 "cells": [
  {
   "cell_type": "code",
   "execution_count": 1,
   "id": "ed6d2238",
   "metadata": {},
   "outputs": [],
   "source": [
    "\"\"\"Please write a program using generator to print the numbers which can be divisible by 5 and\n",
    "7 between 0 and n in comma separated form while n is input by console.\"\"\"\n",
    "\n",
    "import logging\n",
    "logging.basicConfig(filename= \"NumDivisible.log\" ,level= logging.DEBUG ,format= '%(asctime)s %(levelname)s %(message)s')\n",
    "\n",
    "class NumDivisible:\n",
    "    def __init__(self,y):\n",
    "        self.x=0\n",
    "        self.y= y\n",
    "        logging.info(f\"y value given {self.y}\")\n",
    "        \n",
    "    def divisible(self):\n",
    "                \n",
    "        for i in range(self.x,self.y):\n",
    "            if i%5 ==0 and i%7==0:\n",
    "                \n",
    "                logging.info(f\"Numbers that divisible by 5 and 7 is: {i}\")\n",
    "                \n",
    "                yield i\n",
    "                \n",
    "        \n",
    "           "
   ]
  },
  {
   "cell_type": "code",
   "execution_count": 2,
   "id": "bf62ae71",
   "metadata": {},
   "outputs": [
    {
     "name": "stdout",
     "output_type": "stream",
     "text": [
      "Enter range: 100\n",
      "0, 35, 70, "
     ]
    }
   ],
   "source": [
    "try:\n",
    "    n= int(input(\"Enter range: \"))\n",
    "    num=NumDivisible(n)\n",
    "\n",
    "    for i in num.divisible():\n",
    "        print(i, end=\", \")\n",
    "        \n",
    "except Exceptional as e:\n",
    "    \n",
    "    logging.exception(\"Problrm occured\"+ str(e))"
   ]
  },
  {
   "cell_type": "code",
   "execution_count": 3,
   "id": "c6af54d4",
   "metadata": {},
   "outputs": [
    {
     "name": "stdout",
     "output_type": "stream",
     "text": [
      "Enter range: 10\n",
      "0, 2, 4, 6, 8, "
     ]
    }
   ],
   "source": [
    "\"\"\"Please write a program using generator to print the even numbers between 0 and n in comma\n",
    "separated form while n is input by console.\"\"\"\n",
    "\n",
    "import logging\n",
    "logging.basicConfig(filename= \"Even.log\" ,level= logging.DEBUG ,format= '%(asctime)s %(levelname)s %(message)s')\n",
    "\n",
    "class Even:\n",
    "    def __init__(self,y):\n",
    "        self.x=0\n",
    "        self.y= y\n",
    "        logging.info(f\"y value given {self.y}\")\n",
    "        \n",
    "    def even(self):\n",
    "                \n",
    "        for i in range(self.x,self.y):\n",
    "            if i%2==0: \n",
    "                logging.info(f\"Numbers that even is: {i}\")\n",
    "                \n",
    "                yield i\n",
    "                \n",
    "n= int(input(\"Enter range: \"))\n",
    "num=Even(n)\n",
    "\n",
    "for i in num.even():\n",
    "    print(i, end=\", \")"
   ]
  },
  {
   "cell_type": "code",
   "execution_count": 26,
   "id": "efa1b8a7",
   "metadata": {},
   "outputs": [
    {
     "name": "stdout",
     "output_type": "stream",
     "text": [
      "7\n",
      "0,1,1,2,3,5,8,13\n"
     ]
    }
   ],
   "source": [
    "\"\"\"Please write a program using list comprehension to print the Fibonacci Sequence in comma\n",
    "separated form with a given n input by console.\"\"\"\n",
    "\n",
    "def fibo(n):\n",
    "    if n == 0:\n",
    "        return 0\n",
    "    elif n == 1:\n",
    "        return 1\n",
    "    else: \n",
    "        \n",
    "\n",
    "        \n",
    "\n",
    "        return fibo(n-1)+fibo(n-2)\n",
    "\n",
    "n=int(input())\n",
    "values = [str(fibo(x)) for x in range(0, n+1)]\n",
    "print (\",\".join(values))\n",
    "                          \n",
    "                "
   ]
  },
  {
   "cell_type": "code",
   "execution_count": 7,
   "id": "51679499",
   "metadata": {},
   "outputs": [
    {
     "name": "stdout",
     "output_type": "stream",
     "text": [
      "Enter email address: john@google.com\n"
     ]
    },
    {
     "data": {
      "text/plain": [
       "'john'"
      ]
     },
     "execution_count": 7,
     "metadata": {},
     "output_type": "execute_result"
    }
   ],
   "source": [
    "\"\"\"Assuming that we have some email addresses in the \"username@companyname.com\" format,\n",
    "please write program to print the user name of a given email address. Both user names and\n",
    "company names are composed of letters only.\"\"\"\n",
    "\n",
    "import logging\n",
    "logging.basicConfig(filename= \"email.log\" ,level= logging.DEBUG ,format= '%(asctime)s %(levelname)s %(message)s')\n",
    "\n",
    "def email(x):\n",
    "    \n",
    "    logging.info(f\"Email given is: {x}\")\n",
    "    \n",
    "    for i in range(len(x)):\n",
    "        \n",
    "        if x[i]=='@':\n",
    "            \n",
    "            logging.info(f\"The name from the given email is : {x[0:i]} \")\n",
    "            \n",
    "            return x[0:i]\n",
    "        \n",
    "            break\n",
    "            \n",
    "\n",
    "    \n",
    "em= input(\"Enter email address: \")\n",
    "email(em)\n",
    "    \n"
   ]
  },
  {
   "cell_type": "code",
   "execution_count": 5,
   "id": "223c1356",
   "metadata": {},
   "outputs": [],
   "source": [
    "\"\"\"Define a class named Shape and its subclass Square. The Square class has an init function\n",
    "which takes a length as argument. Both classes have a area function which can print the area\n",
    "of the shape where Shape's area is 0 by default.\"\"\"\n",
    "\n",
    "import logging\n",
    "logging.basicConfig(filename= \"shape.log\" ,level= logging.DEBUG ,format= '%(asctime)s %(levelname)s %(message)s')\n",
    "\n",
    "class Shape:\n",
    "    def __init__(self,length):\n",
    "        self.legth= length\n",
    "        \n",
    "    def area(self):\n",
    "        \n",
    "        self.area=0\n",
    "        \n",
    "        \n",
    "        \n",
    "class Square(Shape):\n",
    "    def __init__(self,length):\n",
    "        self.l= length\n",
    "        \n",
    "    def area(self):\n",
    "        \n",
    "        self.area= self.l * self.l\n",
    "        \n",
    "        logging.info(f\"The area of the square is: {self.area}\")\n",
    "        \n",
    "        return self.area\n",
    "        \n"
   ]
  },
  {
   "cell_type": "code",
   "execution_count": 6,
   "id": "21ad6ce8",
   "metadata": {},
   "outputs": [
    {
     "data": {
      "text/plain": [
       "25"
      ]
     },
     "execution_count": 6,
     "metadata": {},
     "output_type": "execute_result"
    }
   ],
   "source": [
    "s= Square(5)\n",
    "s.area()"
   ]
  }
 ],
 "metadata": {
  "kernelspec": {
   "display_name": "Python 3",
   "language": "python",
   "name": "python3"
  },
  "language_info": {
   "codemirror_mode": {
    "name": "ipython",
    "version": 3
   },
   "file_extension": ".py",
   "mimetype": "text/x-python",
   "name": "python",
   "nbconvert_exporter": "python",
   "pygments_lexer": "ipython3",
   "version": "3.9.2"
  }
 },
 "nbformat": 4,
 "nbformat_minor": 5
}
