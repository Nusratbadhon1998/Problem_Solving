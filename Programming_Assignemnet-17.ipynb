{
 "cells": [
  {
   "cell_type": "code",
   "execution_count": 20,
   "id": "055aca31",
   "metadata": {},
   "outputs": [
    {
     "name": "stdout",
     "output_type": "stream",
     "text": [
      "1 10 2\n"
     ]
    },
    {
     "data": {
      "text/plain": [
       "30"
      ]
     },
     "execution_count": 20,
     "metadata": {},
     "output_type": "execute_result"
    }
   ],
   "source": [
    "\"\"\"Create a function that takes three arguments a, b, c and returns the sum of the\n",
    "numbers that are evenly divided by c from the range a, b inclusive.\"\"\"\n",
    "import logging\n",
    "\n",
    "logging.basicConfig(filename= \"sum.log\" ,level= logging.DEBUG ,format= '%(asctime)s %(levelname)s %(message)s')\n",
    "\n",
    "def evenly_divisible(a,b,c):\n",
    "    logging.info(f\"Program started with {a}, {b},{c}\")\n",
    "    div=[]\n",
    "    for i in range(a,b+1):\n",
    "        if i%c==0:\n",
    "            div.append(i)\n",
    "    if len(div)==0:\n",
    "        logging.info(f\"No number between {a} and {b} can be evenly divided by {c}.\")\n",
    "        return f\"No number between {a} and {b} can be evenly divided by {c}.\"\n",
    "    else:\n",
    "        logging.info(f\"The summation is {sum(div)}.\")\n",
    "        return sum(div)\n",
    "\n",
    "a,b,c= input().split()\n",
    "evenly_divisible(int(a),int(b),int(c))"
   ]
  },
  {
   "cell_type": "code",
   "execution_count": 58,
   "id": "3f7fe84b",
   "metadata": {},
   "outputs": [
    {
     "name": "stdout",
     "output_type": "stream",
     "text": [
      "True\n",
      "False\n",
      "True\n"
     ]
    }
   ],
   "source": [
    "\"\"\"Create a function that returns True if a given inequality expression is correct and\n",
    "False otherwise.\"\"\"\n",
    "\n",
    "def check(s):\n",
    "\n",
    "\n",
    "    if eval(s):\n",
    "\n",
    "        return True\n",
    "\n",
    "    else:\n",
    "\n",
    "        return False \n",
    "\n",
    "# printing result \n",
    "\n",
    "print(check(\"2 < 7 < 15\"))\n",
    "\n",
    "print(check(\"30 > 45 > 21 > 9\"))\n",
    "\n",
    "print(check(\"4 < 7 < 8< 12 > 2\"))"
   ]
  },
  {
   "cell_type": "code",
   "execution_count": 64,
   "id": "613d1f6c",
   "metadata": {},
   "outputs": [
    {
     "data": {
      "text/plain": [
       "'th# ##rdv#rk'"
      ]
     },
     "execution_count": 64,
     "metadata": {},
     "output_type": "execute_result"
    }
   ],
   "source": [
    "\"\"\"Create a function that replaces all the vowels in a string with a specified character.\"\"\"\n",
    "\n",
    "#replace_vowels(\"the aardvark\", \"#\")\n",
    "\n",
    "def replace_value(txt,symbol):\n",
    "    s=''\n",
    "    vowel= ['a','e','i','o','u']\n",
    "    for i in txt.lower():\n",
    "        if i in vowel:\n",
    "            s+='#'\n",
    "        else:\n",
    "            s+=i\n",
    "    return s\n",
    "\n",
    "replace_value(\"the aardvark\", \"#\")\n"
   ]
  },
  {
   "cell_type": "code",
   "execution_count": 65,
   "id": "0601cecf",
   "metadata": {},
   "outputs": [
    {
     "name": "stdout",
     "output_type": "stream",
     "text": [
      "Enter number: 5\n"
     ]
    },
    {
     "data": {
      "text/plain": [
       "120"
      ]
     },
     "execution_count": 65,
     "metadata": {},
     "output_type": "execute_result"
    }
   ],
   "source": [
    "\"\"\"Write a function that calculates the factorial of a number recursively.\"\"\"\n",
    "\n",
    "def factorial(x):\n",
    "    fact=1\n",
    "    \n",
    "    for i in range(x,1,-1):\n",
    "        fact= fact*i\n",
    "    return fact\n",
    "\n",
    "x= int(input(\"Enter number: \"))\n",
    "factorial(x)        \n",
    "        \n",
    "        "
   ]
  },
  {
   "cell_type": "code",
   "execution_count": 67,
   "id": "0b0f5586",
   "metadata": {},
   "outputs": [
    {
     "data": {
      "text/plain": [
       "0"
      ]
     },
     "execution_count": 67,
     "metadata": {},
     "output_type": "execute_result"
    }
   ],
   "source": [
    "\"\"\"Create a function that computes the hamming distance between two strings.\"\"\"\n",
    "\n",
    "def distance(a,b):\n",
    "    cout=0\n",
    "    \n",
    "    if len(a)==len(b):\n",
    "        \n",
    "        for i in range(len(a)):\n",
    "            if a[i]!=b[i]:\n",
    "                cout+=1\n",
    "    return cout\n",
    "            \n",
    "            \n",
    "\n",
    "a,b= \"abcde\",\"abcde\"\n",
    "distance(a,b)"
   ]
  }
 ],
 "metadata": {
  "kernelspec": {
   "display_name": "Python 3",
   "language": "python",
   "name": "python3"
  },
  "language_info": {
   "codemirror_mode": {
    "name": "ipython",
    "version": 3
   },
   "file_extension": ".py",
   "mimetype": "text/x-python",
   "name": "python",
   "nbconvert_exporter": "python",
   "pygments_lexer": "ipython3",
   "version": "3.9.2"
  }
 },
 "nbformat": 4,
 "nbformat_minor": 5
}
