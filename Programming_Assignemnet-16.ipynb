{
 "cells": [
  {
   "cell_type": "code",
   "execution_count": 5,
   "id": "0862c61a",
   "metadata": {},
   "outputs": [],
   "source": [
    "\n",
    "\"\"\"Write a function that stutters a word as if someone is struggling to read it. The\n",
    "first two letters are repeated twice with an ellipsis ... and space after each, and then the\n",
    "word is pronounced with a question mark ?.\"\"\"\n",
    "\n",
    "import logging\n",
    "\n",
    "logging.basicConfig(filename= \"stutter.log\" ,level= logging.DEBUG ,format= '%(asctime)s %(levelname)s %(message)s')\n",
    "\n",
    "\n",
    "#stutter(\"incredible\") ➞ \"in... in... incredible\"\n",
    "class Test:\n",
    "    def __init__(self,msg):\n",
    "        self.msg=msg\n",
    "        logging.info(f\"Given string is: {self.msg}\")\n",
    "        \n",
    "    def stutter(self):\n",
    "        try:\n",
    "            new=''\n",
    "            for i in range(2):\n",
    "                for j in range(2):\n",
    "                    new+=self.msg[j]\n",
    "\n",
    "                new+='...'\n",
    "                new+=' '\n",
    "                \n",
    "            logging.info(new+' '+self.msg+'?')\n",
    "            \n",
    "            yield new+''+self.msg+'?'\n",
    "        \n",
    "        except Exception as e:\n",
    "            \n",
    "            logging.exception(\"Error Occured\")\n",
    "            \n"
   ]
  },
  {
   "cell_type": "code",
   "execution_count": 6,
   "id": "d55cc2a1",
   "metadata": {},
   "outputs": [
    {
     "name": "stdout",
     "output_type": "stream",
     "text": [
      "Enter the string: incredible\n",
      "in... in... incredible?\n"
     ]
    }
   ],
   "source": [
    "try:\n",
    "    string= input(\"Enter the string: \")\n",
    "    t= Test(string)\n",
    "    t.stutter()\n",
    "    for i in t.stutter():\n",
    "        print(i)\n",
    "except Exception as e:\n",
    "    logging.exception(e)"
   ]
  },
  {
   "cell_type": "code",
   "execution_count": 7,
   "id": "d24f2c56",
   "metadata": {},
   "outputs": [
    {
     "name": "stdout",
     "output_type": "stream",
     "text": [
      "Enter the string: outstanding\n",
      "ou... ou... outstanding?\n"
     ]
    }
   ],
   "source": [
    "try:\n",
    "    string= input(\"Enter the string: \")\n",
    "    t= Test(string.lower())\n",
    "    t.stutter()\n",
    "    for i in t.stutter():\n",
    "        print(i)\n",
    "except Exception as e:\n",
    "    logging.exception(e)"
   ]
  },
  {
   "cell_type": "code",
   "execution_count": 8,
   "id": "54371bc6",
   "metadata": {},
   "outputs": [
    {
     "name": "stdout",
     "output_type": "stream",
     "text": [
      "Enter the string: out\n",
      "ou... ou... out?\n"
     ]
    }
   ],
   "source": [
    "try:\n",
    "    string= input(\"Enter the string: \")\n",
    "    t= Test(string.lower())\n",
    "    t.stutter()\n",
    "    for i in t.stutter():\n",
    "        print(i)\n",
    "except Exception as e:\n",
    "    logging.exception(e)\n",
    "    "
   ]
  },
  {
   "cell_type": "code",
   "execution_count": 9,
   "id": "014c5477",
   "metadata": {},
   "outputs": [],
   "source": [
    "\"\"\"2.Create a function that takes an angle in radians and returns the corresponding\n",
    "angle in degrees rounded to one decimal place.\"\"\"\n",
    "\n",
    "import logging\n",
    "\n",
    "logging.basicConfig(filename= \"degree.log\" ,level= logging.DEBUG ,format= '%(asctime)s %(levelname)s %(message)s')\n",
    "\n",
    "class Test2:\n",
    "    pi= 3.1416\n",
    "    def __init__(self,value):\n",
    "        self.value= value\n",
    "        \n",
    "        \n",
    "        logging.info(f\"Given Value is: {self.value}\")\n",
    "        \n",
    "    def radians_to_degrees(self):\n",
    "        try:\n",
    "            \n",
    "            degree= (self.value * (180/Test2.pi))\n",
    "            logging.info(f\"After conver the result is : {degree}\")\n",
    "            yield degree\n",
    "        except Exception as e:\n",
    "            logging.error(\"Error occured\")\n",
    "            logging.exception(e)"
   ]
  },
  {
   "cell_type": "code",
   "execution_count": 10,
   "id": "2c4b7845",
   "metadata": {},
   "outputs": [
    {
     "name": "stdout",
     "output_type": "stream",
     "text": [
      "Enter number: 20\n",
      "1145.9\n"
     ]
    }
   ],
   "source": [
    "try:\n",
    "    num= int(input(\"Enter number: \"))\n",
    "    rad= Test2(num)\n",
    "    for i in rad.radians_to_degrees():\n",
    "        print('%.1f' % i)\n",
    "    \n",
    "except Exception as e:\n",
    "    logging.info(e)"
   ]
  },
  {
   "cell_type": "code",
   "execution_count": 11,
   "id": "76a5a735",
   "metadata": {},
   "outputs": [],
   "source": [
    "import logging\n",
    "\n",
    "logging.basicConfig(filename= \"curzon.log\" ,level= logging.DEBUG ,format= '%(asctime)s %(levelname)s %(message)s')\n",
    "\n",
    "class Curzon:\n",
    "    def __init__(self,value):\n",
    "        self.v= value\n",
    "        logging.info(f\"Given Value is: {self.v}\")\n",
    "        \n",
    "    def curzon(self):\n",
    "        try:\n",
    "            x= (2**self.v)+1\n",
    "            logging.info(f\"2 ** {self.v} + 1 = {x}\")\n",
    "            y= (2* self.v)+1\n",
    "            logging.info(f\"2 * {self.v} + 1 = {y}\")\n",
    "            \n",
    "            if x % y==0:\n",
    "                logging.info(f\"{x} is multiply by {y}\")\n",
    "                yield True\n",
    "            else:\n",
    "                logging.info(f\"{x} is not multiply by {y}\")\n",
    "                yield False\n",
    "        except Exception as e:\n",
    "            logging.error(\"Error occured\")\n",
    "            logging.exception(e)"
   ]
  },
  {
   "cell_type": "code",
   "execution_count": 12,
   "id": "d5c1b309",
   "metadata": {},
   "outputs": [
    {
     "name": "stdout",
     "output_type": "stream",
     "text": [
      "Enter number: 5\n",
      "True\n"
     ]
    }
   ],
   "source": [
    "try:\n",
    "    num= int(input(\"Enter number: \"))\n",
    "    c= Curzon(num)\n",
    "    for i in c.curzon():\n",
    "        print(i)\n",
    "    \n",
    "except Exception as e:\n",
    "    logging.info(e)"
   ]
  },
  {
   "cell_type": "code",
   "execution_count": 13,
   "id": "022d9fb7",
   "metadata": {},
   "outputs": [
    {
     "name": "stdout",
     "output_type": "stream",
     "text": [
      "Enter number: 10\n"
     ]
    },
    {
     "data": {
      "text/plain": [
       "'The side lenth is 10 and area is 259.8'"
      ]
     },
     "execution_count": 13,
     "metadata": {},
     "output_type": "execute_result"
    }
   ],
   "source": [
    "\"\"\"4.Given the side length x find the area of a hexagon.\"\"\"\n",
    "import math\n",
    "\n",
    "def area(x):\n",
    "    a= ((3 * math.sqrt(3))/2)* pow(x,2)\n",
    "    return  f\"The side lenth is {x} and area is {'%.1f' % a}\"\n",
    "\n",
    "n= int(input(\"Enter number: \"))\n",
    "area(n)\n",
    "    "
   ]
  },
  {
   "cell_type": "code",
   "execution_count": 14,
   "id": "4fb162f8",
   "metadata": {},
   "outputs": [
    {
     "name": "stdout",
     "output_type": "stream",
     "text": [
      "Enter decimal value: 5\n",
      " 1 * 1 +  0 * 2 +  1 * 4  = 5"
     ]
    },
    {
     "data": {
      "text/plain": [
       "5"
      ]
     },
     "execution_count": 14,
     "metadata": {},
     "output_type": "execute_result"
    }
   ],
   "source": [
    "\"\"\"binary(1) ➞ \"1\";\n",
    "\n",
    "# 1*1 = 1\n",
    "binary(5) ➞ \"5\";\n",
    "# 1*1 + 1*4 = 5\n",
    "binary(10) ➞ \"10\";\n",
    "# 1*2 + 1*8 = 10\"\"\"\n",
    "\n",
    "def binary(num):\n",
    "    binaryNum=[]\n",
    "    while num>=1:\n",
    "        binaryNum.append(int(num%2))\n",
    "        num= int(num/2)\n",
    "        \n",
    "    new=''\n",
    "    for i in range(len(binaryNum),0,-1):\n",
    "\n",
    "        new+= str(binaryNum[i-1])\n",
    "    return new\n",
    "    \n",
    "def decimal(x):\n",
    "    value= binary(x)\n",
    "    j=0\n",
    "    s=0\n",
    "    i= len(value)\n",
    "  \n",
    "    while i>=0:\n",
    "        \n",
    "        print(f\" {(value[i-1])} * {pow(2,j)}\",end=' ')\n",
    "        s= s + (int(value[i-1]) * pow(2,j))\n",
    "        j+=1\n",
    "        \n",
    "        i=i-1\n",
    "        \n",
    "        if i<=0:\n",
    "            \n",
    "            break\n",
    "        else:\n",
    "        \n",
    "            print(\"+\",end=\" \")\n",
    "    print(f\" = {s}\",end='')\n",
    "\n",
    "    return s\n",
    "\n",
    "number= int(input(\"Enter decimal value: \"))\n",
    "\n",
    "decimal(number)"
   ]
  }
 ],
 "metadata": {
  "kernelspec": {
   "display_name": "Python 3",
   "language": "python",
   "name": "python3"
  },
  "language_info": {
   "codemirror_mode": {
    "name": "ipython",
    "version": 3
   },
   "file_extension": ".py",
   "mimetype": "text/x-python",
   "name": "python",
   "nbconvert_exporter": "python",
   "pygments_lexer": "ipython3",
   "version": "3.9.2"
  }
 },
 "nbformat": 4,
 "nbformat_minor": 5
}
