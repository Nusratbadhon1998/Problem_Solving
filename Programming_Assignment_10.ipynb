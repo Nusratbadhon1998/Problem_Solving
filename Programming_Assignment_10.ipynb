{
 "cells": [
  {
   "cell_type": "code",
   "execution_count": null,
   "id": "47a48f89",
   "metadata": {},
   "outputs": [],
   "source": [
    "import logging\n",
    "\n",
    "logging.basicConfig(filename= \"test2.log\" ,level= logging.DEBUG ,format= '%(asctime)s %(levelname)s %(message)s')\n",
    "\n",
    "def lst_sum(n):\n",
    "    \n",
    "    \"\"\"1. Write a Python program to find sum of elements in list?\"\"\"\n",
    "\n",
    "    \n",
    "    logging.info(\"Start of the code with this list %s\", n )\n",
    "\n",
    "    if type(n)==list: \n",
    "            \n",
    "            sum=0\n",
    "            try:\n",
    "                for i in n: \n",
    "                    \n",
    "\n",
    "                            sum+=i\n",
    "                \n",
    "                    \n",
    "                        \n",
    "                logging.info(\"The summation of %s is %s\", n,sum)  \n",
    "        \n",
    "                \n",
    "            except Exception as e:\n",
    "\n",
    "                logging.error(\"This item %s is not supported\",i)\n",
    "\n",
    "                logging.exception(\"The exception occured \" + str(e))\n",
    "    \n",
    "    else:\n",
    "        \n",
    "        logging.info(\"This type is not accepted\")\n",
    "\n",
    "num= []\n",
    "try:\n",
    "    n=int(input(\"Enter the range: \"))\n",
    "    for i in range(n):\n",
    "        a= int(input(\"Enter the element: \"))\n",
    "        num.append(a)\n",
    "    lst_sum(num)\n",
    "    \n",
    "except Exception as e:\n",
    "    print(\"The Problem occured\",e)"
   ]
  },
  {
   "cell_type": "code",
   "execution_count": 64,
   "id": "e4d0c951",
   "metadata": {},
   "outputs": [
    {
     "name": "stdout",
     "output_type": "stream",
     "text": [
      "Enter the range: 4\n",
      "Enter the element: 1\n",
      "Enter the element: 2\n",
      "Enter the element: 3\n",
      "Enter the element: 4\n"
     ]
    },
    {
     "data": {
      "text/plain": [
       "'Thew multiplication of all number in the list is : 24'"
      ]
     },
     "execution_count": 64,
     "metadata": {},
     "output_type": "execute_result"
    }
   ],
   "source": [
    "def test(n):\n",
    "    \"\"\"Write a Python program to Multiply all numbers in the list?\"\"\"\n",
    "    \n",
    "    if type(n)!= list:\n",
    "        raise Exception(\"Type is not list\",n)\n",
    "        \n",
    "def mul(n):\n",
    "    try:\n",
    "        if type(n)==list:\n",
    "            mul=1\n",
    "            for i in n:\n",
    "                mul*= i\n",
    "                \n",
    "            return( f\"Thew multiplication of all number in the list is : {mul}\")\n",
    "        else:\n",
    "            test(n)\n",
    "    except Exception as e:\n",
    "        print(\"Raised Error\")\n",
    "        \n",
    "    return( f\"Thew multiplication of all number in the list is : {mul}\")\n",
    "        \n",
    "num= []\n",
    "\n",
    "n= int(input(\"Enter the range: \"))\n",
    "\n",
    "for i in range(n):\n",
    "    \n",
    "    y= int(input(\"Enter the element: \"))\n",
    "    \n",
    "    num.append(y)\n",
    "    \n",
    "mul(num)\n",
    "\n",
    "\n"
   ]
  },
  {
   "cell_type": "code",
   "execution_count": 5,
   "id": "b7085436",
   "metadata": {},
   "outputs": [
    {
     "data": {
      "text/plain": [
       "'The smallest element is 1'"
      ]
     },
     "execution_count": 5,
     "metadata": {},
     "output_type": "execute_result"
    }
   ],
   "source": [
    "def small(n):\n",
    "    \"\"\"Write a Python program to find smallest number in a list?\"\"\"\n",
    "    sml= n[0]\n",
    "    for i in range(len(n)):\n",
    "        if n[i] < sml:\n",
    "            sml= n[i]\n",
    "    return f\"The smallest element is {sml}\"\n",
    "\n",
    "small([8,2,1,4])"
   ]
  },
  {
   "cell_type": "code",
   "execution_count": 6,
   "id": "edb31dc7",
   "metadata": {},
   "outputs": [
    {
     "data": {
      "text/plain": [
       "'The largest element is 8'"
      ]
     },
     "execution_count": 6,
     "metadata": {},
     "output_type": "execute_result"
    }
   ],
   "source": [
    "def large(n):\n",
    "    \"\"\"4. Write a Python program to find largest number in a list?\"\"\"\n",
    "    big= n[0]\n",
    "    for i in range(len(n)):\n",
    "        if n[i] > big:\n",
    "            big= n[i]\n",
    "    return f\"The largest element is {big}\"\n",
    "\n",
    "large([8,2,1,4])"
   ]
  },
  {
   "cell_type": "code",
   "execution_count": 10,
   "id": "af9928fa",
   "metadata": {},
   "outputs": [
    {
     "name": "stdout",
     "output_type": "stream",
     "text": [
      "Enter the range: 4\n",
      "Enter the element: 8\n",
      "Enter the element: 6\n",
      "Enter the element: 1\n",
      "Enter the element: 2\n"
     ]
    },
    {
     "data": {
      "text/plain": [
       "'The second largest element is : 6'"
      ]
     },
     "execution_count": 10,
     "metadata": {},
     "output_type": "execute_result"
    }
   ],
   "source": [
    "def largest(n):\n",
    "    \n",
    "    \"\"\"5. Write a Python program to find second largest number in a list?\"\"\"\n",
    "    \n",
    "    for i in range(len(n)-1):\n",
    "        for j in range(len(n)-1-i):\n",
    "            if n[j] > n[j+1]:\n",
    "                temp = n[j]\n",
    "                n[j]= n[j+1]\n",
    "                n[j+1]=temp\n",
    "                \n",
    "    second_large= n[len(n)-2]\n",
    "    \n",
    "    return f\"The second largest element is : {second_large}\"\n",
    "\n",
    "num=[]\n",
    "\n",
    "n= int(input(\"Enter the range: \"))\n",
    "\n",
    "for i in range(n):\n",
    "    \n",
    "    b= int(input(\"Enter the element: \"))\n",
    "    \n",
    "    num.append(b)\n",
    "    \n",
    "largest(num)\n",
    "                "
   ]
  },
  {
   "cell_type": "code",
   "execution_count": 17,
   "id": "f1f8bacd",
   "metadata": {},
   "outputs": [],
   "source": [
    "def maximum(n):\n",
    "    \n",
    "    \"\"\"Write a Python program to find N largest elements from a list?\"\"\"\n",
    "    \n",
    "    for i in range(len(n)-1):\n",
    "        for j in range(len(n)-1-i):\n",
    "            if n[j] > n[j+1]:\n",
    "                temp = n[j]\n",
    "                n[j]= n[j+1]\n",
    "                n[j+1]=temp\n",
    "    rnge= int(input(\"Enter the range: \"))\n",
    "                \n",
    "    new= n[-rnge:]\n",
    "    return new\n",
    "    "
   ]
  },
  {
   "cell_type": "code",
   "execution_count": 19,
   "id": "92c1c88a",
   "metadata": {},
   "outputs": [
    {
     "name": "stdout",
     "output_type": "stream",
     "text": [
      "Enter the range: 3\n"
     ]
    },
    {
     "data": {
      "text/plain": [
       "[52, 81, 96]"
      ]
     },
     "execution_count": 19,
     "metadata": {},
     "output_type": "execute_result"
    }
   ],
   "source": [
    "b=[81, 52, 45, 10, 3, 2, 96]\n",
    "maximum(b)"
   ]
  },
  {
   "cell_type": "code",
   "execution_count": 28,
   "id": "0760943f",
   "metadata": {},
   "outputs": [
    {
     "name": "stdout",
     "output_type": "stream",
     "text": [
      "Enter the range: 4\n",
      "Enter the element: 1\n",
      "Enter the element: 2\n",
      "Enter the element: 3\n",
      "Enter the element: 4\n"
     ]
    },
    {
     "data": {
      "text/plain": [
       "'The even numbers are: [2, 4]'"
      ]
     },
     "execution_count": 28,
     "metadata": {},
     "output_type": "execute_result"
    }
   ],
   "source": [
    "def even(x):\n",
    "    \n",
    "    \"\"\"Write a Python program to print even numbers in a list?\"\"\"\n",
    "    \n",
    "    ev=[]\n",
    "    \n",
    "    if type(x)!= list:\n",
    "        raise Exception(\"Type is not list\",x)\n",
    "        \n",
    "    else:\n",
    "        for i in x:\n",
    "            if i%2==0:\n",
    "                ev.append(i)\n",
    "            else:\n",
    "                pass\n",
    "            \n",
    "        return f\"The even numbers are: {ev}\"\n",
    "                \n",
    "num=[]\n",
    "\n",
    "n= int(input(\"Enter the range: \"))\n",
    "\n",
    "for i in range(n):\n",
    "    \n",
    "    z= int(input(\"Enter the element: \"))\n",
    "    \n",
    "    num.append(z)\n",
    "    \n",
    "even(num)\n",
    "\n"
   ]
  },
  {
   "cell_type": "code",
   "execution_count": 30,
   "id": "64890842",
   "metadata": {},
   "outputs": [
    {
     "name": "stdout",
     "output_type": "stream",
     "text": [
      "Enter the range: 4\n",
      "Enter the element: 1\n",
      "Enter the element: 2\n",
      "Enter the element: 3\n",
      "Enter the element: 4\n"
     ]
    },
    {
     "data": {
      "text/plain": [
       "'The odd numbers are: [1, 3]'"
      ]
     },
     "execution_count": 30,
     "metadata": {},
     "output_type": "execute_result"
    }
   ],
   "source": [
    "def odd_lst(x):\n",
    "    \n",
    "    \"\"\"Write a Python program to print odd numbers in a List?\"\"\"\n",
    "    odd=[]\n",
    "    \n",
    "    if type(x)!= list:\n",
    "        raise Exception(\"Type is not list\",x)\n",
    "        \n",
    "    else:\n",
    "        for i in x:\n",
    "            if i%2==1:\n",
    "                odd.append(i)\n",
    "            else:\n",
    "                pass\n",
    "            \n",
    "        return f\"The odd numbers are: {odd}\"\n",
    "                \n",
    "num=[]\n",
    "\n",
    "n= int(input(\"Enter the range: \"))\n",
    "\n",
    "for i in range(n):\n",
    "    \n",
    "    z= int(input(\"Enter the element: \"))\n",
    "    \n",
    "    num.append(z)\n",
    "    \n",
    "odd_lst(num)\n",
    "\n"
   ]
  },
  {
   "cell_type": "code",
   "execution_count": 49,
   "id": "64d19bfe",
   "metadata": {},
   "outputs": [
    {
     "name": "stdout",
     "output_type": "stream",
     "text": [
      "The previous list is [1, 2, [], 'f', 5, [1, 2]]\n"
     ]
    },
    {
     "data": {
      "text/plain": [
       "\"The list after removing empty list is: [1, 2, 'f', 5, [1, 2]]\""
      ]
     },
     "execution_count": 49,
     "metadata": {},
     "output_type": "execute_result"
    }
   ],
   "source": [
    "def empty(x):\n",
    "    \n",
    "    \"\"\"Write a Python program to Remove empty List from List?\"\"\"\n",
    "    new=[]\n",
    "    for i in x:\n",
    "        \n",
    "        if type(i)==list:\n",
    "            if len(i)!=0:\n",
    "                new.append(i)\n",
    "        else:\n",
    "            new.append(i)\n",
    "            \n",
    "    return f\"The list after removing empty list is: {new}\"\n",
    "\n",
    "\n",
    "x= [1,2,[ ],'f',5,[1,2]]\n",
    "\n",
    "print(f\"The previous list is {x}\")\n",
    "\n",
    "empty(x)"
   ]
  },
  {
   "cell_type": "code",
   "execution_count": 54,
   "id": "e460ccb7",
   "metadata": {},
   "outputs": [
    {
     "name": "stdout",
     "output_type": "stream",
     "text": [
      "Enter the range: 5\n",
      "Enter the element: 1\n",
      "Enter the element: 2\n",
      "Enter the element: 3\n",
      "Enter the element: 4\n",
      "Enter the element: 5\n",
      "\n",
      "The original list is: [1, 2, 3, 4, 5]\n"
     ]
    },
    {
     "data": {
      "text/plain": [
       "'The copy list is: [1, 2, 3, 4, 5]'"
      ]
     },
     "execution_count": 54,
     "metadata": {},
     "output_type": "execute_result"
    }
   ],
   "source": [
    "\n",
    "def new(x):\n",
    "    \n",
    "    \"\"\"10. Write a Python program to Cloning or Copying a list?\"\"\"\n",
    "    \n",
    "    copy=[]\n",
    "    \n",
    "    for i in x:\n",
    "         copy.append(i)\n",
    "            \n",
    "    return f\"The copy list is: {copy}\"\n",
    "    \n",
    "original=[]\n",
    "\n",
    "n= int(input(\"Enter the range: \"))\n",
    "\n",
    "for i in range(n):\n",
    "    \n",
    "    z= int(input(\"Enter the element: \"))\n",
    "    \n",
    "    original.append(z)\n",
    "print()\n",
    "print(f\"The original list is: {original}\")\n",
    "    \n",
    "new(original)"
   ]
  },
  {
   "cell_type": "code",
   "execution_count": 62,
   "id": "80870d2d",
   "metadata": {},
   "outputs": [
    {
     "name": "stdout",
     "output_type": "stream",
     "text": [
      "The occurance of 1 is 3 times\n",
      "The occurance of 3 is 2 times\n",
      "The occurance of 4 is 1 times\n",
      "The occurance of 2 is 1 times\n"
     ]
    }
   ],
   "source": [
    "\"\"\"11. Write a Python program to Count occurrences of an element in a list?\"\"\"\n",
    "\n",
    "m=[1,1,1,3,4,3,2]\n",
    "\n",
    "new=[]\n",
    "for i in range(len(m)):\n",
    "    count=0\n",
    "    for j in range(len(m)):\n",
    "        if m[i]== m[j]:\n",
    "            count+=1\n",
    "        \n",
    "        else:\n",
    "            pass\n",
    "        \n",
    "    if m[i] not in new:\n",
    "        new.append(m[i])\n",
    "        print(f\"The occurance of {m[i]} is {count} times\")"
   ]
  },
  {
   "cell_type": "code",
   "execution_count": null,
   "id": "fe20dfbc",
   "metadata": {},
   "outputs": [],
   "source": []
  }
 ],
 "metadata": {
  "kernelspec": {
   "display_name": "Python 3",
   "language": "python",
   "name": "python3"
  },
  "language_info": {
   "codemirror_mode": {
    "name": "ipython",
    "version": 3
   },
   "file_extension": ".py",
   "mimetype": "text/x-python",
   "name": "python",
   "nbconvert_exporter": "python",
   "pygments_lexer": "ipython3",
   "version": "3.9.2"
  }
 },
 "nbformat": 4,
 "nbformat_minor": 5
}
