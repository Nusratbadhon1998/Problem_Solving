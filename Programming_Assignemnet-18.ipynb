{
 "cells": [
  {
   "cell_type": "code",
   "execution_count": null,
   "id": "699bfb87",
   "metadata": {},
   "outputs": [],
   "source": [
    "\"\"\"Create a function that takes a list of non-negative integers and strings and return a new list\n",
    "without the strings.\"\"\"\n",
    "\n",
    "import logging\n",
    "logging.basicConfig(filename='nonstring.log',level= logging.DEBUG,format= '%(asctime)s %(levelname)s %(message)s')\n",
    "\n",
    "def negative_int():\n",
    "    raise Exception(\"Negative Integer not allowed...\")\n",
    "    \n",
    "def filter_list(l):\n",
    "    try:\n",
    "        logging.info(f\"fuction started with {l}\")\n",
    "        print(f\"Initial list: {l}\")\n",
    "\n",
    "        new=[]\n",
    "\n",
    "        for i in l:\n",
    "                if isinstance(i,int) and i>0:\n",
    "                    new.append(i)\n",
    "                else:\n",
    "                    pass\n",
    "\n",
    "        logging.info(f\"The list after filtering string: {new}\")            \n",
    "        yield new\n",
    "    except Exception as e:\n",
    "        logging.exception(\"Exception occured\"+ str(e))\n",
    "\n",
    "try:\n",
    "    num= int(input(\"Enter range: \"))\n",
    "    lst=[]\n",
    "    digit='0123456789'\n",
    "    for i in range(num):\n",
    "        x= (input(\"Enter value: \"))\n",
    "        if x in digit:\n",
    "            lst.append(int(x))\n",
    "            if int(x)<0:\n",
    "                negative_int()\n",
    "      \n",
    "        else:\n",
    "            lst.append(x)\n",
    "            \n",
    "            \n",
    "    for i in filter_list(lst):\n",
    "        print(i)\n",
    "        \n",
    "except Exception as e:\n",
    "    print(e)\n",
    "    \n",
    "                "
   ]
  },
  {
   "cell_type": "code",
   "execution_count": null,
   "id": "1792862a",
   "metadata": {},
   "outputs": [],
   "source": [
    "def reverse(x):\n",
    "    reverse_str=''\n",
    "    for i in range(len(x),0,-1):\n",
    "        if x[i-1]==x[i-1].lower():\n",
    "           reverse_str+= x[i-1].upper()\n",
    "        else:\n",
    "            \n",
    "            reverse_str+=x[i-1].lower()\n",
    "    return reverse_str\n",
    "\n",
    "txt=input(\"Enter String: \")\n",
    "reverse(txt)        "
   ]
  },
  {
   "cell_type": "code",
   "execution_count": null,
   "id": "ae9691c0",
   "metadata": {},
   "outputs": [],
   "source": [
    "\"\"\"Your task is to unpack the list writeyourcodehere into three variables, being first,\n",
    "middle, and last, with middle being everything in between the first and last element. Then\n",
    "print all three variables.\"\"\"\n",
    "\n",
    "first,*second,third= [1,2,3,4,5,6,7]\n",
    "print(first)\n",
    "print(second)\n",
    "print(third)\n"
   ]
  },
  {
   "cell_type": "code",
   "execution_count": null,
   "id": "1296386a",
   "metadata": {},
   "outputs": [],
   "source": [
    "\"\"\"Write a function that calculates the factorial of a number recursively.\"\"\"\n",
    "\n",
    "def factorial(x):\n",
    "    fact=1\n",
    "    \n",
    "    for i in range(x,1,-1):\n",
    "        fact= fact*i\n",
    "    return fact\n",
    "\n",
    "x= int(input(\"Enter number: \"))\n",
    "factorial(x)        \n",
    "        "
   ]
  },
  {
   "cell_type": "code",
   "execution_count": 7,
   "id": "0925153d",
   "metadata": {},
   "outputs": [
    {
     "name": "stdout",
     "output_type": "stream",
     "text": [
      "Enter value: 1\n"
     ]
    },
    {
     "data": {
      "text/plain": [
       "[2, 3, 4, 5, 6, 1, 1]"
      ]
     },
     "execution_count": 7,
     "metadata": {},
     "output_type": "execute_result"
    }
   ],
   "source": [
    "\"\"\"Write a function that moves all elements of one type to the end of the list.\"\"\"\n",
    "\n",
    "def move_to_end(lst,value):\n",
    "    \n",
    "    new=[]\n",
    "    \n",
    "    for i in range(len(lst)-1):\n",
    "        if lst[i]==value:\n",
    "            new.append(lst[i])\n",
    "            lst.remove(lst[i])         \n",
    "            \n",
    "        else:\n",
    "            pass\n",
    "       \n",
    "    lst.extend(new)\n",
    "    return lst\n",
    "lst=[1,2,3,4,5,6,1]\n",
    "value=int(input(\"Enter value: \"))\n",
    "move_to_end(lst,value)          "
   ]
  }
 ],
 "metadata": {
  "kernelspec": {
   "display_name": "Python 3",
   "language": "python",
   "name": "python3"
  },
  "language_info": {
   "codemirror_mode": {
    "name": "ipython",
    "version": 3
   },
   "file_extension": ".py",
   "mimetype": "text/x-python",
   "name": "python",
   "nbconvert_exporter": "python",
   "pygments_lexer": "ipython3",
   "version": "3.9.2"
  }
 },
 "nbformat": 4,
 "nbformat_minor": 5
}
