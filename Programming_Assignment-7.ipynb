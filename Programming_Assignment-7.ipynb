{
 "cells": [
  {
   "cell_type": "code",
   "execution_count": 1,
   "id": "e838f7f9",
   "metadata": {},
   "outputs": [
    {
     "data": {
      "text/plain": [
       "24.7"
      ]
     },
     "execution_count": 1,
     "metadata": {},
     "output_type": "execute_result"
    }
   ],
   "source": [
    "def array(arr):\n",
    "    sum=0\n",
    "    for i in range(len(arr)):\n",
    "        if type(arr[i])==list or type(arr[i])== tuple:\n",
    "            for j in arr[i]:\n",
    "                sum+=j\n",
    "        elif type(arr[i])==int or type(arr[i])==float:\n",
    "            sum+= arr[i]\n",
    "        else:\n",
    "            pass\n",
    "    return sum\n",
    "array([\"str\",2,4,[1,2],(4,5),6.7])\n",
    "                "
   ]
  },
  {
   "cell_type": "code",
   "execution_count": 2,
   "id": "409b910d",
   "metadata": {},
   "outputs": [
    {
     "name": "stdout",
     "output_type": "stream",
     "text": [
      "Enter the range: 5\n",
      "Enter the number: 2\n",
      "Enter the number: 5\n",
      "Enter the number: 7\n",
      "Enter the number: 9\n",
      "Enter the number: 2\n"
     ]
    },
    {
     "data": {
      "text/plain": [
       "'The largest number of array is 9'"
      ]
     },
     "execution_count": 2,
     "metadata": {},
     "output_type": "execute_result"
    }
   ],
   "source": [
    "def large(n):\n",
    "    mx= n[0]\n",
    "    for i in n:\n",
    "        if i>mx:\n",
    "            mx=i\n",
    "    return f\"The largest number of array is {mx}\"\n",
    "\n",
    "lst=[]\n",
    "\n",
    "rng= int(input(\"Enter the range: \"))\n",
    "for i in range(rng):\n",
    "    a= int((input(\"Enter the number: \")))\n",
    "    lst.append(a)  \n",
    "large(lst)\n"
   ]
  },
  {
   "cell_type": "code",
   "execution_count": 3,
   "id": "d4f088e9",
   "metadata": {},
   "outputs": [
    {
     "name": "stdout",
     "output_type": "stream",
     "text": [
      "Enter how many rotation you want: 2\n",
      "The new list after rotation: [3, 4, 5, 6, 7, 1, 2]\n",
      "The prev list [1, 2, 3, 4, 5, 6, 7]\n"
     ]
    }
   ],
   "source": [
    "a = [1, 2, 3, 4, 5, 6, 7]\n",
    "r=int(input(\"Enter how many rotation you want: \"))\n",
    "new= []\n",
    "for i in range(r):\n",
    "    new.append(a[i])\n",
    "    \n",
    "arr=[]\n",
    "    \n",
    "for j in range(r, len(a)):\n",
    "    arr.append(a[j])\n",
    "new= arr+new \n",
    "\n",
    "print(f\"The new list after rotation: {new}\")    \n",
    "\n",
    "print(f\"The prev list {a}\") "
   ]
  },
  {
   "cell_type": "code",
   "execution_count": 6,
   "id": "e3e8baa9",
   "metadata": {},
   "outputs": [
    {
     "name": "stdout",
     "output_type": "stream",
     "text": [
      "Enter at which index you want to split? : 1\n",
      "[1, 2, 3]\n"
     ]
    }
   ],
   "source": [
    "ar=[3,1,2]\n",
    "k=int(input(\"Enter at which index you want to split? : \"))\n",
    "for i in range(k):\n",
    "    x= ar[0]\n",
    "    for j in range(0,len(ar)-1):\n",
    "        ar[j]=ar[j+1]\n",
    "    ar[len(ar)-1]=x    \n",
    "print(ar)\n",
    "    \n",
    "    "
   ]
  },
  {
   "cell_type": "code",
   "execution_count": 7,
   "id": "9bd813e9",
   "metadata": {},
   "outputs": [],
   "source": [
    "def mono(x):\n",
    "\n",
    "    grtr=[]\n",
    "    lssr=[]\n",
    "\n",
    "    for i in range(len(x)-1):\n",
    "        \n",
    "        if x[i]< x[i+1] :  \n",
    "            if x[i] not in lssr or x[i+1] not in lssr:\n",
    "                lssr.extend([x[i],x[i+1]])\n",
    "                \n",
    "        elif x[i]> x[i+1] :\n",
    "            if x[i] not in grtr or x[i+1] not in grtr:\n",
    "                grtr.extend([x[i],x[i+1]])\n",
    "        \n",
    "    new1 = list(dict.fromkeys(grtr))\n",
    "    new3 = list(dict.fromkeys(lssr))\n",
    "    \n",
    "    if (new1==x or new1==[]) and (new3==x or new3==[]):\n",
    "\n",
    "        return \"This is a monotonic list\"\n",
    "    else:\n",
    "        return \"This is not monotonic list\"\n",
    "    \n"
   ]
  },
  {
   "cell_type": "code",
   "execution_count": 8,
   "id": "58bfa1d2",
   "metadata": {},
   "outputs": [
    {
     "data": {
      "text/plain": [
       "'This is a monotonic list'"
      ]
     },
     "execution_count": 8,
     "metadata": {},
     "output_type": "execute_result"
    }
   ],
   "source": [
    "a=[1,2,3,4,5]\n",
    "mono(a)"
   ]
  },
  {
   "cell_type": "code",
   "execution_count": 10,
   "id": "9677743e",
   "metadata": {},
   "outputs": [
    {
     "data": {
      "text/plain": [
       "'This is not monotonic list'"
      ]
     },
     "execution_count": 10,
     "metadata": {},
     "output_type": "execute_result"
    }
   ],
   "source": [
    "b=[3,4,3,1,6]\n",
    "mono(b)"
   ]
  },
  {
   "cell_type": "code",
   "execution_count": null,
   "id": "e3a4e685",
   "metadata": {},
   "outputs": [],
   "source": []
  }
 ],
 "metadata": {
  "kernelspec": {
   "display_name": "Python 3",
   "language": "python",
   "name": "python3"
  },
  "language_info": {
   "codemirror_mode": {
    "name": "ipython",
    "version": 3
   },
   "file_extension": ".py",
   "mimetype": "text/x-python",
   "name": "python",
   "nbconvert_exporter": "python",
   "pygments_lexer": "ipython3",
   "version": "3.9.2"
  }
 },
 "nbformat": 4,
 "nbformat_minor": 5
}
